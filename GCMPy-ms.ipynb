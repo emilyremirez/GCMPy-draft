{
 "cells": [
  {
   "cell_type": "code",
   "execution_count": 1,
   "metadata": {},
   "outputs": [],
   "source": [
    "%load_ext autoreload\n",
    "import GCMPy as gp\n",
    "%aimport GCMPy\n",
    "%autoreload 1\n",
    "import math\n",
    "import random\n",
    "import matplotlib.pyplot as plt\n",
    "#%matplotlib inline\n",
    "import numpy as np\n",
    "import pandas as pd\n",
    "from pandas import DataFrame\n",
    "from scipy.optimize import minimize\n",
    "import seaborn as sns\n",
    "sns.set(style='ticks', context='paper')\n",
    "colors=[\"#e3c934\",\"#68c4bf\",\"#c51000\",\"#287271\"]\n",
    "sns.set_palette(colors)"
   ]
  },
  {
   "cell_type": "markdown",
   "metadata": {},
   "source": [
    "## Import Peterson & Barney 1952 as pb52, convert to Bark"
   ]
  },
  {
   "cell_type": "code",
   "execution_count": 2,
   "metadata": {},
   "outputs": [
    {
     "data": {
      "text/html": [
       "<div>\n",
       "<style scoped>\n",
       "    .dataframe tbody tr th:only-of-type {\n",
       "        vertical-align: middle;\n",
       "    }\n",
       "\n",
       "    .dataframe tbody tr th {\n",
       "        vertical-align: top;\n",
       "    }\n",
       "\n",
       "    .dataframe thead th {\n",
       "        text-align: right;\n",
       "    }\n",
       "</style>\n",
       "<table border=\"1\" class=\"dataframe\">\n",
       "  <thead>\n",
       "    <tr style=\"text-align: right;\">\n",
       "      <th></th>\n",
       "      <th>type</th>\n",
       "      <th>gender</th>\n",
       "      <th>speaker</th>\n",
       "      <th>vowel</th>\n",
       "      <th>repetition</th>\n",
       "      <th>F0</th>\n",
       "      <th>F1</th>\n",
       "      <th>F2</th>\n",
       "      <th>F3</th>\n",
       "      <th>z0</th>\n",
       "      <th>z1</th>\n",
       "      <th>z2</th>\n",
       "      <th>z3</th>\n",
       "    </tr>\n",
       "  </thead>\n",
       "  <tbody>\n",
       "    <tr>\n",
       "      <th>1384</th>\n",
       "      <td>c</td>\n",
       "      <td>m</td>\n",
       "      <td>70</td>\n",
       "      <td>DRESS</td>\n",
       "      <td>1</td>\n",
       "      <td>235</td>\n",
       "      <td>657</td>\n",
       "      <td>2300</td>\n",
       "      <td>3300</td>\n",
       "      <td>2.340319</td>\n",
       "      <td>6.200673</td>\n",
       "      <td>13.944883</td>\n",
       "      <td>16.289962</td>\n",
       "    </tr>\n",
       "    <tr>\n",
       "      <th>1096</th>\n",
       "      <td>w</td>\n",
       "      <td>f</td>\n",
       "      <td>55</td>\n",
       "      <td>GOOSE</td>\n",
       "      <td>1</td>\n",
       "      <td>205</td>\n",
       "      <td>308</td>\n",
       "      <td>1025</td>\n",
       "      <td>2650</td>\n",
       "      <td>2.008591</td>\n",
       "      <td>3.110864</td>\n",
       "      <td>8.676114</td>\n",
       "      <td>14.881388</td>\n",
       "    </tr>\n",
       "    <tr>\n",
       "      <th>1030</th>\n",
       "      <td>w</td>\n",
       "      <td>f</td>\n",
       "      <td>52</td>\n",
       "      <td>PALM</td>\n",
       "      <td>1</td>\n",
       "      <td>163</td>\n",
       "      <td>766</td>\n",
       "      <td>1180</td>\n",
       "      <td>2340</td>\n",
       "      <td>1.528422</td>\n",
       "      <td>7.003551</td>\n",
       "      <td>9.545096</td>\n",
       "      <td>14.059628</td>\n",
       "    </tr>\n",
       "    <tr>\n",
       "      <th>2</th>\n",
       "      <td>m</td>\n",
       "      <td>m</td>\n",
       "      <td>1</td>\n",
       "      <td>KIT</td>\n",
       "      <td>1</td>\n",
       "      <td>203</td>\n",
       "      <td>390</td>\n",
       "      <td>2030</td>\n",
       "      <td>2640</td>\n",
       "      <td>1.986149</td>\n",
       "      <td>3.919319</td>\n",
       "      <td>13.110175</td>\n",
       "      <td>14.856609</td>\n",
       "    </tr>\n",
       "    <tr>\n",
       "      <th>664</th>\n",
       "      <td>w</td>\n",
       "      <td>f</td>\n",
       "      <td>34</td>\n",
       "      <td>DRESS</td>\n",
       "      <td>1</td>\n",
       "      <td>190</td>\n",
       "      <td>550</td>\n",
       "      <td>2200</td>\n",
       "      <td>2880</td>\n",
       "      <td>1.839256</td>\n",
       "      <td>5.344701</td>\n",
       "      <td>13.648365</td>\n",
       "      <td>15.423058</td>\n",
       "    </tr>\n",
       "  </tbody>\n",
       "</table>\n",
       "</div>"
      ],
      "text/plain": [
       "     type gender  speaker  vowel  repetition   F0   F1    F2    F3        z0  \\\n",
       "1384    c      m       70  DRESS           1  235  657  2300  3300  2.340319   \n",
       "1096    w      f       55  GOOSE           1  205  308  1025  2650  2.008591   \n",
       "1030    w      f       52   PALM           1  163  766  1180  2340  1.528422   \n",
       "2       m      m        1    KIT           1  203  390  2030  2640  1.986149   \n",
       "664     w      f       34  DRESS           1  190  550  2200  2880  1.839256   \n",
       "\n",
       "            z1         z2         z3  \n",
       "1384  6.200673  13.944883  16.289962  \n",
       "1096  3.110864   8.676114  14.881388  \n",
       "1030  7.003551   9.545096  14.059628  \n",
       "2     3.919319  13.110175  14.856609  \n",
       "664   5.344701  13.648365  15.423058  "
      ]
     },
     "execution_count": 2,
     "metadata": {},
     "output_type": "execute_result"
    }
   ],
   "source": [
    "pb52=pd.read_csv('pb52.csv')\n",
    "pbbark = gp.HzToBark(pb52,[\"F0\",\"F1\",\"F2\",\"F3\"])\n",
    "pbbark.sample(5)"
   ]
  },
  {
   "cell_type": "markdown",
   "metadata": {},
   "source": [
    "## Set some parameters"
   ]
  },
  {
   "cell_type": "code",
   "execution_count": 3,
   "metadata": {},
   "outputs": [],
   "source": [
    "# set c, the sensitivity of exemplar cloud\n",
    "cval=25\n",
    "\n",
    "# set dimesnsions m as keys, \n",
    "    ## set weight of each dimension w_m as values\n",
    "dimsvals={'z0':1,'z1':.761,'z2':.681,'z3':.407}\n",
    "dimslist = list(dimsvals.keys())\n",
    "\n",
    "# set categories to be considered as items in a list\n",
    "catslist=['vowel','type']\n",
    "\n",
    "# set the test set to be a copy of the exemplar cloud\n",
    "test = pbbark.copy()"
   ]
  },
  {
   "cell_type": "markdown",
   "metadata": {},
   "source": [
    "## Categorize exemplar cloud"
   ]
  },
  {
   "cell_type": "code",
   "execution_count": 4,
   "metadata": {},
   "outputs": [],
   "source": [
    "# choices = gp.multicat(test,pbbark,catslist,dimsvals,cval,exclude_self=True, N=1)"
   ]
  },
  {
   "cell_type": "markdown",
   "metadata": {},
   "source": [
    "### Generate confusion matrix"
   ]
  },
  {
   "cell_type": "code",
   "execution_count": 5,
   "metadata": {},
   "outputs": [],
   "source": [
    "# gp.confusion(choices,[\"vowel\"])"
   ]
  },
  {
   "cell_type": "markdown",
   "metadata": {},
   "source": [
    "# Categorical perception stuff"
   ]
  },
  {
   "cell_type": "code",
   "execution_count": 27,
   "metadata": {},
   "outputs": [],
   "source": [
    "datasumm = gp.datasummary(pbbark,catslist,dimslist)\n",
    "start = {\"type\":\"w\",\"vowel\":\"KIT\"}\n",
    "end = {\"type\":\"w\",\"vowel\":\"DRESS\"}\n",
    "terms = {\"vowel\":[\"KIT\",\"DRESS\"]}\n",
    "cont = gp.continuum(datasumm, end, start, dimslist, steps=7)"
   ]
  },
  {
   "cell_type": "code",
   "execution_count": 28,
   "metadata": {},
   "outputs": [],
   "source": [
    "choices_cont = gp.multicat(cont,pbbark,catslist,dimsvals,cval,exclude_self=True,N=1,fc=terms)"
   ]
  },
  {
   "cell_type": "code",
   "execution_count": 29,
   "metadata": {},
   "outputs": [],
   "source": [
    "bias_on=\"type\"\n",
    "typebias={\"w\":1,\"m\":500,\"c\":1}\n",
    "mbias = gp.multicatprime(cont,pbbark,catslist,dimsvals,cval,cat=bias_on,catbias=typebias,exclude_self=True,fc=terms)"
   ]
  },
  {
   "cell_type": "code",
   "execution_count": 30,
   "metadata": {},
   "outputs": [],
   "source": [
    "bias_on=\"type\"\n",
    "typebias={\"w\":1,\"m\":1,\"c\":500}\n",
    "cbias= gp.multicatprime(cont,pbbark,catslist,dimsvals,cval,cat=bias_on,catbias=typebias,exclude_self=True,fc=terms)"
   ]
  },
  {
   "cell_type": "code",
   "execution_count": 31,
   "metadata": {},
   "outputs": [],
   "source": [
    "bias_on=\"type\"\n",
    "typebias={\"w\":500,\"m\":1,\"c\":1}\n",
    "wbias= gp.multicatprime(cont,pbbark,catslist,dimsvals,cval,cat=bias_on,catbias=typebias,exclude_self=True,fc=terms)"
   ]
  },
  {
   "cell_type": "code",
   "execution_count": 32,
   "metadata": {
    "scrolled": true
   },
   "outputs": [
    {
     "data": {
      "image/png": "[encoded data removed]",
      "text/plain": [
       "<Figure size 432x288 with 1 Axes>"
      ]
     },
     "metadata": {},
     "output_type": "display_data"
    }
   ],
   "source": [
    "gp.cpplot([choices_cont,mbias,cbias,wbias],\"vowel\",[\"No bias\",\"m\",\"c\",\"w\"])"
   ]
  },
  {
   "cell_type": "code",
   "execution_count": null,
   "metadata": {},
   "outputs": [],
   "source": []
  }
 ],
 "metadata": {
  "history": [
   {
    "code": "import GCMPy as gp",
    "id": "aa63e8499802435aa2fe51b2d5ae9054",
    "idx": 0,
    "time": "2021-01-23T01:52:13.405Z",
    "type": "execution"
   },
   {
    "id": "aa63e8499802435aa2fe51b2d5ae9054",
    "time": "2021-01-23T01:52:13.477Z",
    "type": "completion"
   },
   {
    "code": "import GCMPy.py as gp",
    "id": "aa63e8499802435aa2fe51b2d5ae9054",
    "idx": 0,
    "time": "2021-01-23T01:52:20.251Z",
    "type": "execution"
   },
   {
    "id": "aa63e8499802435aa2fe51b2d5ae9054",
    "time": "2021-01-23T01:52:20.315Z",
    "type": "completion"
   },
   {
    "code": "import GCMPy",
    "id": "aa63e8499802435aa2fe51b2d5ae9054",
    "idx": 0,
    "time": "2021-01-23T01:52:47.571Z",
    "type": "execution"
   },
   {
    "id": "aa63e8499802435aa2fe51b2d5ae9054",
    "time": "2021-01-23T01:52:47.639Z",
    "type": "completion"
   },
   {
    "code": "import GCMPy",
    "id": "aa63e8499802435aa2fe51b2d5ae9054",
    "idx": 0,
    "time": "2021-01-23T01:53:38.152Z",
    "type": "execution"
   },
   {
    "id": "aa63e8499802435aa2fe51b2d5ae9054",
    "time": "2021-01-23T01:53:38.239Z",
    "type": "completion"
   },
   {
    "code": "import GCMPy",
    "id": "aa63e8499802435aa2fe51b2d5ae9054",
    "idx": 0,
    "time": "2021-01-23T01:53:49.096Z",
    "type": "execution"
   },
   {
    "id": "aa63e8499802435aa2fe51b2d5ae9054",
    "time": "2021-01-23T01:53:49.173Z",
    "type": "completion"
   },
   {
    "code": "import GCMPy",
    "id": "aa63e8499802435aa2fe51b2d5ae9054",
    "idx": 0,
    "time": "2021-01-23T01:54:41.263Z",
    "type": "execution"
   },
   {
    "id": "aa63e8499802435aa2fe51b2d5ae9054",
    "time": "2021-01-23T01:54:41.336Z",
    "type": "completion"
   },
   {
    "code": "import GCMPy",
    "id": "aa63e8499802435aa2fe51b2d5ae9054",
    "idx": 0,
    "time": "2021-01-23T01:55:31.840Z",
    "type": "execution"
   },
   {
    "id": "aa63e8499802435aa2fe51b2d5ae9054",
    "time": "2021-01-23T01:55:35.579Z",
    "type": "completion"
   },
   {
    "code": "import GCMPy as gp",
    "id": "aa63e8499802435aa2fe51b2d5ae9054",
    "idx": 0,
    "time": "2021-01-23T01:55:38.567Z",
    "type": "execution"
   },
   {
    "id": "aa63e8499802435aa2fe51b2d5ae9054",
    "time": "2021-01-23T01:55:38.634Z",
    "type": "completion"
   },
   {
    "code": "pb52=pd.read_csv('pb52.csv')\npbbark = barkbark(pb52,[\"F0\",\"F1\",\"F2\",\"F3\"])",
    "id": "b0dd14c32ee9438b8ac4f9391972b9d0",
    "idx": 2,
    "time": "2021-01-23T01:56:53.550Z",
    "type": "execution"
   },
   {
    "id": "b0dd14c32ee9438b8ac4f9391972b9d0",
    "time": "2021-01-23T01:56:53.739Z",
    "type": "completion"
   },
   {
    "code": "import GCMPy as gp\nimport math\nimport random\nimport matplotlib.pyplot as plt\n#%matplotlib inline\nimport numpy as np\nimport pandas as pd\nfrom pandas import DataFrame\nfrom scipy.optimize import minimize\nimport seaborn as sns\nsns.set(style='ticks', context='paper')\ncolors=[\"#e3c934\",\"#68c4bf\",\"#c51000\",\"#287271\"]\nsns.set_palette(colors)",
    "id": "aa63e8499802435aa2fe51b2d5ae9054",
    "idx": 0,
    "time": "2021-01-23T01:57:15.395Z",
    "type": "execution"
   },
   {
    "id": "aa63e8499802435aa2fe51b2d5ae9054",
    "time": "2021-01-23T01:57:15.457Z",
    "type": "completion"
   },
   {
    "code": "pb52=pd.read_csv('pb52.csv')\npbbark = barkbark(pb52,[\"F0\",\"F1\",\"F2\",\"F3\"])",
    "id": "b0dd14c32ee9438b8ac4f9391972b9d0",
    "idx": 2,
    "time": "2021-01-23T01:57:16.833Z",
    "type": "execution"
   },
   {
    "id": "b0dd14c32ee9438b8ac4f9391972b9d0",
    "time": "2021-01-23T01:57:16.911Z",
    "type": "completion"
   },
   {
    "code": "pb52=pd.read_csv('pb52.csv')\npbbark = HzToBark(pb52,[\"F0\",\"F1\",\"F2\",\"F3\"])",
    "id": "b0dd14c32ee9438b8ac4f9391972b9d0",
    "idx": 2,
    "time": "2021-01-23T01:57:34.826Z",
    "type": "execution"
   },
   {
    "id": "b0dd14c32ee9438b8ac4f9391972b9d0",
    "time": "2021-01-23T01:57:34.897Z",
    "type": "completion"
   },
   {
    "code": "pb52=pd.read_csv('pb52.csv')\npbbark = gp.HzToBark(pb52,[\"F0\",\"F1\",\"F2\",\"F3\"])",
    "id": "b0dd14c32ee9438b8ac4f9391972b9d0",
    "idx": 2,
    "time": "2021-01-23T01:57:42.245Z",
    "type": "execution"
   },
   {
    "id": "b0dd14c32ee9438b8ac4f9391972b9d0",
    "time": "2021-01-23T01:57:42.332Z",
    "type": "completion"
   },
   {
    "code": "pb52=pd.read_csv('pb52.csv')\npbbark = gp.HzToBark(pb52,[\"F0\",\"F1\",\"F2\",\"F3\"])\npbbark.head()",
    "id": "b0dd14c32ee9438b8ac4f9391972b9d0",
    "idx": 2,
    "time": "2021-01-23T01:57:51.824Z",
    "type": "execution"
   },
   {
    "id": "b0dd14c32ee9438b8ac4f9391972b9d0",
    "time": "2021-01-23T01:57:51.942Z",
    "type": "completion"
   },
   {
    "code": "pb52=pd.read_csv('pb52.csv')\npbbark = gp.HzToBark(pb52,[\"F0\",\"F1\",\"F2\",\"F3\"])\npbbark.sample(5)",
    "id": "b0dd14c32ee9438b8ac4f9391972b9d0",
    "idx": 2,
    "time": "2021-01-23T01:58:00.597Z",
    "type": "execution"
   },
   {
    "id": "b0dd14c32ee9438b8ac4f9391972b9d0",
    "time": "2021-01-23T01:58:00.695Z",
    "type": "completion"
   },
   {
    "code": "# set c, the sensitivity of exemplar cloud\ncval=5\n\n# set dimesnsions m as keys, \n    ## set weight of each dimension w_m as values\ndimsvals={'z0':1,'z1':2.953,'z2':.924,'z3':3.420}\n\n# set categories to be considered as items in a list\ncatslist=['vowel','type']\n\n# Get a balanced test set, 5 obs per vowel\ntest = gp.gettestset(pbbark,'vowel',5)\n",
    "id": "6ed8eb33a8414e21a6c573c609c7eea5",
    "idx": 4,
    "time": "2021-01-23T02:02:35.956Z",
    "type": "execution"
   },
   {
    "id": "6ed8eb33a8414e21a6c573c609c7eea5",
    "time": "2021-01-23T02:02:36.046Z",
    "type": "completion"
   },
   {
    "code": "test",
    "id": "e19406c68cdb4fc1883a86c2766e6de5",
    "idx": 5,
    "time": "2021-01-23T02:02:39.137Z",
    "type": "execution"
   },
   {
    "id": "e19406c68cdb4fc1883a86c2766e6de5",
    "time": "2021-01-23T02:02:39.280Z",
    "type": "completion"
   },
   {
    "code": "choices = gp.multicat(test,pbbark,catslist,dimsvals,cval,exclude_self=True,alsoexclude=None, N=1, runnerup=False)",
    "id": "191b4f91c6de40d082ad138571721155",
    "idx": 6,
    "time": "2021-01-23T02:04:42.359Z",
    "type": "execution"
   },
   {
    "id": "191b4f91c6de40d082ad138571721155",
    "time": "2021-01-23T02:04:43.813Z",
    "type": "completion"
   },
   {
    "code": "choices.head()",
    "id": "c9e3d3f4ddfc4e8b9eee86a0a420ae47",
    "idx": 7,
    "time": "2021-01-23T02:04:48.808Z",
    "type": "execution"
   },
   {
    "id": "c9e3d3f4ddfc4e8b9eee86a0a420ae47",
    "time": "2021-01-23T02:04:48.922Z",
    "type": "completion"
   },
   {
    "code": "acc = gp.checkaccuracy(choices,catslist)",
    "id": "2fd3af9c60cf4631a23542194a0379d4",
    "idx": 8,
    "time": "2021-01-23T02:07:40.936Z",
    "type": "execution"
   },
   {
    "id": "2fd3af9c60cf4631a23542194a0379d4",
    "time": "2021-01-23T02:07:41.015Z",
    "type": "completion"
   },
   {
    "code": "acc",
    "id": "7923978dd1224bb18a116542bea56552",
    "idx": 9,
    "time": "2021-01-23T02:07:43.005Z",
    "type": "execution"
   },
   {
    "id": "7923978dd1224bb18a116542bea56552",
    "time": "2021-01-23T02:07:43.282Z",
    "type": "completion"
   },
   {
    "code": "propcorr(acc,'vowel')",
    "id": "7923978dd1224bb18a116542bea56552",
    "idx": 9,
    "time": "2021-01-23T02:08:13.895Z",
    "type": "execution"
   },
   {
    "id": "7923978dd1224bb18a116542bea56552",
    "time": "2021-01-23T02:08:13.981Z",
    "type": "completion"
   },
   {
    "code": "gp.propcorr(acc,'vowel')",
    "id": "7923978dd1224bb18a116542bea56552",
    "idx": 9,
    "time": "2021-01-23T02:08:19.772Z",
    "type": "execution"
   },
   {
    "id": "7923978dd1224bb18a116542bea56552",
    "time": "2021-01-23T02:08:19.863Z",
    "type": "completion"
   },
   {
    "code": "gp.propcorr(acc,'type')",
    "id": "e6a866a6ada746f29a807eeb3a1a78ee",
    "idx": 10,
    "time": "2021-01-23T02:08:33.733Z",
    "type": "execution"
   },
   {
    "id": "e6a866a6ada746f29a807eeb3a1a78ee",
    "time": "2021-01-23T02:08:33.821Z",
    "type": "completion"
   },
   {
    "code": "gp.overallacc(acc,'vowel')",
    "id": "eba6140b1ed0445d8b586668b413f9e9",
    "idx": 10,
    "time": "2021-01-23T02:09:07.242Z",
    "type": "execution"
   },
   {
    "id": "eba6140b1ed0445d8b586668b413f9e9",
    "time": "2021-01-23T02:09:07.344Z",
    "type": "completion"
   },
   {
    "code": "gp.overallacc(acc,'type')",
    "id": "fb56ef5539ff496e9b040212743e0e0a",
    "idx": 12,
    "time": "2021-01-23T02:09:18.088Z",
    "type": "execution"
   },
   {
    "id": "fb56ef5539ff496e9b040212743e0e0a",
    "time": "2021-01-23T02:09:18.156Z",
    "type": "completion"
   },
   {
    "code": "gp.multiaccplot(choices,catslist)",
    "id": "4bee8a3bd6b844ab879841e2c5ce17d6",
    "idx": 9,
    "time": "2021-01-23T02:09:40.108Z",
    "type": "execution"
   },
   {
    "id": "4bee8a3bd6b844ab879841e2c5ce17d6",
    "time": "2021-01-23T02:09:40.189Z",
    "type": "completion"
   },
   {
    "code": "import GCMPy as gp\nimport math\nimport random\nimport matplotlib.pyplot as plt\n#%matplotlib inline\nimport numpy as np\nimport pandas as pd\nfrom pandas import DataFrame\nfrom scipy.optimize import minimize\nimport seaborn as sns\nsns.set(style='ticks', context='paper')\ncolors=[\"#e3c934\",\"#68c4bf\",\"#c51000\",\"#287271\"]\nsns.set_palette(colors)",
    "id": "aa63e8499802435aa2fe51b2d5ae9054",
    "idx": 0,
    "time": "2021-01-23T02:10:23.254Z",
    "type": "execution"
   },
   {
    "code": "pb52=pd.read_csv('pb52.csv')\npbbark = gp.HzToBark(pb52,[\"F0\",\"F1\",\"F2\",\"F3\"])\npbbark.sample(5)",
    "id": "b0dd14c32ee9438b8ac4f9391972b9d0",
    "idx": 2,
    "time": "2021-01-23T02:10:23.259Z",
    "type": "execution"
   },
   {
    "code": "# set c, the sensitivity of exemplar cloud\ncval=5\n\n# set dimesnsions m as keys, \n    ## set weight of each dimension w_m as values\ndimsvals={'z0':1,'z1':2.953,'z2':.924,'z3':3.420}\n\n# set categories to be considered as items in a list\ncatslist=['vowel','type']\n\n# Get a balanced test set, 5 obs per vowel\ntest = gp.gettestset(pbbark,'vowel',5)",
    "id": "6ed8eb33a8414e21a6c573c609c7eea5",
    "idx": 4,
    "time": "2021-01-23T02:10:23.261Z",
    "type": "execution"
   },
   {
    "code": "choices = gp.multicat(test,pbbark,catslist,dimsvals,cval,exclude_self=True,alsoexclude=None, N=1, runnerup=False)",
    "id": "191b4f91c6de40d082ad138571721155",
    "idx": 6,
    "time": "2021-01-23T02:10:23.262Z",
    "type": "execution"
   },
   {
    "code": "acc = gp.checkaccuracy(choices,catslist)",
    "id": "2fd3af9c60cf4631a23542194a0379d4",
    "idx": 8,
    "time": "2021-01-23T02:10:23.263Z",
    "type": "execution"
   },
   {
    "code": "gp.multiaccplot(choices,catslist)",
    "id": "4bee8a3bd6b844ab879841e2c5ce17d6",
    "idx": 9,
    "time": "2021-01-23T02:10:23.265Z",
    "type": "execution"
   },
   {
    "code": "gp.propcorr(acc,'vowel')",
    "id": "7923978dd1224bb18a116542bea56552",
    "idx": 10,
    "time": "2021-01-23T02:10:23.268Z",
    "type": "execution"
   },
   {
    "code": "gp.overallacc(acc,'vowel')",
    "id": "eba6140b1ed0445d8b586668b413f9e9",
    "idx": 11,
    "time": "2021-01-23T02:10:23.269Z",
    "type": "execution"
   },
   {
    "code": "gp.propcorr(acc,'type')",
    "id": "e6a866a6ada746f29a807eeb3a1a78ee",
    "idx": 12,
    "time": "2021-01-23T02:10:23.271Z",
    "type": "execution"
   },
   {
    "code": "gp.overallacc(acc,'type')",
    "id": "fb56ef5539ff496e9b040212743e0e0a",
    "idx": 13,
    "time": "2021-01-23T02:10:23.272Z",
    "type": "execution"
   },
   {
    "id": "aa63e8499802435aa2fe51b2d5ae9054",
    "time": "2021-01-23T02:10:24.315Z",
    "type": "completion"
   },
   {
    "id": "b0dd14c32ee9438b8ac4f9391972b9d0",
    "time": "2021-01-23T02:10:24.362Z",
    "type": "completion"
   },
   {
    "id": "6ed8eb33a8414e21a6c573c609c7eea5",
    "time": "2021-01-23T02:10:24.371Z",
    "type": "completion"
   },
   {
    "id": "191b4f91c6de40d082ad138571721155",
    "time": "2021-01-23T02:10:25.901Z",
    "type": "completion"
   },
   {
    "id": "2fd3af9c60cf4631a23542194a0379d4",
    "time": "2021-01-23T02:10:25.903Z",
    "type": "completion"
   },
   {
    "id": "4bee8a3bd6b844ab879841e2c5ce17d6",
    "time": "2021-01-23T02:10:25.958Z",
    "type": "completion"
   },
   {
    "id": "7923978dd1224bb18a116542bea56552",
    "time": "2021-01-23T02:10:25.960Z",
    "type": "completion"
   },
   {
    "id": "eba6140b1ed0445d8b586668b413f9e9",
    "time": "2021-01-23T02:10:25.961Z",
    "type": "completion"
   },
   {
    "id": "e6a866a6ada746f29a807eeb3a1a78ee",
    "time": "2021-01-23T02:10:25.962Z",
    "type": "completion"
   },
   {
    "id": "fb56ef5539ff496e9b040212743e0e0a",
    "time": "2021-01-23T02:10:25.979Z",
    "type": "completion"
   },
   {
    "code": "gp.accplot(acc,'vowel')",
    "id": "bff376f2bf1349868ef93ce214ccba81",
    "idx": 9,
    "time": "2021-01-23T02:13:54.143Z",
    "type": "execution"
   },
   {
    "id": "bff376f2bf1349868ef93ce214ccba81",
    "time": "2021-01-23T02:13:54.461Z",
    "type": "completion"
   },
   {
    "code": "acc = gp.checkaccuracy(choices,catslist)",
    "id": "2fd3af9c60cf4631a23542194a0379d4",
    "idx": 8,
    "time": "2021-01-23T02:14:10.815Z",
    "type": "execution"
   },
   {
    "code": "gp.accplot(acc,'vowel')",
    "id": "bff376f2bf1349868ef93ce214ccba81",
    "idx": 9,
    "time": "2021-01-23T02:14:10.818Z",
    "type": "execution"
   },
   {
    "code": "gp.propcorr(acc,'vowel')",
    "id": "7923978dd1224bb18a116542bea56552",
    "idx": 10,
    "time": "2021-01-23T02:14:10.819Z",
    "type": "execution"
   },
   {
    "code": "gp.overallacc(acc,'vowel')",
    "id": "eba6140b1ed0445d8b586668b413f9e9",
    "idx": 11,
    "time": "2021-01-23T02:14:10.821Z",
    "type": "execution"
   },
   {
    "code": "gp.accplot(acc,'type')",
    "id": "2dffb9e929da40c283b2bdcea7831e44",
    "idx": 12,
    "time": "2021-01-23T02:14:10.822Z",
    "type": "execution"
   },
   {
    "code": "gp.propcorr(acc,'type')",
    "id": "e6a866a6ada746f29a807eeb3a1a78ee",
    "idx": 13,
    "time": "2021-01-23T02:14:10.823Z",
    "type": "execution"
   },
   {
    "code": "gp.overallacc(acc,'type')",
    "id": "fb56ef5539ff496e9b040212743e0e0a",
    "idx": 14,
    "time": "2021-01-23T02:14:10.825Z",
    "type": "execution"
   },
   {
    "id": "2fd3af9c60cf4631a23542194a0379d4",
    "time": "2021-01-23T02:14:10.883Z",
    "type": "completion"
   },
   {
    "id": "bff376f2bf1349868ef93ce214ccba81",
    "time": "2021-01-23T02:14:11.137Z",
    "type": "completion"
   },
   {
    "id": "7923978dd1224bb18a116542bea56552",
    "time": "2021-01-23T02:14:11.142Z",
    "type": "completion"
   },
   {
    "id": "eba6140b1ed0445d8b586668b413f9e9",
    "time": "2021-01-23T02:14:11.158Z",
    "type": "completion"
   },
   {
    "id": "2dffb9e929da40c283b2bdcea7831e44",
    "time": "2021-01-23T02:14:11.233Z",
    "type": "completion"
   },
   {
    "id": "e6a866a6ada746f29a807eeb3a1a78ee",
    "time": "2021-01-23T02:14:11.242Z",
    "type": "completion"
   },
   {
    "id": "fb56ef5539ff496e9b040212743e0e0a",
    "time": "2021-01-23T02:14:11.257Z",
    "type": "completion"
   },
   {
    "code": "# set c, the sensitivity of exemplar cloud\ncval=5\n\n# set dimesnsions m as keys, \n    ## set weight of each dimension w_m as values\ndimsvals={'z0':1,'z1':2.953,'z2':.924,'z3':3.420}\n\n# set categories to be considered as items in a list\ncatslist=['vowel','type']\n\n# Get a balanced test set, 15 obs per vowel\ntest = gp.gettestset(pbbark,'vowel',15)",
    "id": "6ed8eb33a8414e21a6c573c609c7eea5",
    "idx": 4,
    "time": "2021-01-23T02:14:41.279Z",
    "type": "execution"
   },
   {
    "id": "6ed8eb33a8414e21a6c573c609c7eea5",
    "time": "2021-01-23T02:14:41.356Z",
    "type": "completion"
   },
   {
    "code": "choices = gp.multicat(test,pbbark,catslist,dimsvals,cval,exclude_self=True,alsoexclude=None, N=1, runnerup=False)",
    "id": "191b4f91c6de40d082ad138571721155",
    "idx": 6,
    "time": "2021-01-23T02:14:43.889Z",
    "type": "execution"
   },
   {
    "id": "191b4f91c6de40d082ad138571721155",
    "time": "2021-01-23T02:14:48.220Z",
    "type": "completion"
   },
   {
    "code": "acc = gp.checkaccuracy(choices,catslist)",
    "id": "2fd3af9c60cf4631a23542194a0379d4",
    "idx": 8,
    "time": "2021-01-23T02:14:49.776Z",
    "type": "execution"
   },
   {
    "id": "2fd3af9c60cf4631a23542194a0379d4",
    "time": "2021-01-23T02:14:49.854Z",
    "type": "completion"
   },
   {
    "code": "gp.accplot(acc,'vowel')",
    "id": "bff376f2bf1349868ef93ce214ccba81",
    "idx": 9,
    "time": "2021-01-23T02:14:50.837Z",
    "type": "execution"
   },
   {
    "id": "bff376f2bf1349868ef93ce214ccba81",
    "time": "2021-01-23T02:14:51.167Z",
    "type": "completion"
   },
   {
    "code": "gp.propcorr(acc,'vowel')",
    "id": "7923978dd1224bb18a116542bea56552",
    "idx": 10,
    "time": "2021-01-23T02:14:53.283Z",
    "type": "execution"
   },
   {
    "id": "7923978dd1224bb18a116542bea56552",
    "time": "2021-01-23T02:14:53.362Z",
    "type": "completion"
   },
   {
    "code": "gp.overallacc(acc,'vowel')",
    "id": "eba6140b1ed0445d8b586668b413f9e9",
    "idx": 11,
    "time": "2021-01-23T02:14:56.263Z",
    "type": "execution"
   },
   {
    "id": "eba6140b1ed0445d8b586668b413f9e9",
    "time": "2021-01-23T02:14:56.350Z",
    "type": "completion"
   },
   {
    "code": "gp.accplot(acc,'type')",
    "id": "2dffb9e929da40c283b2bdcea7831e44",
    "idx": 12,
    "time": "2021-01-23T02:14:57.998Z",
    "type": "execution"
   },
   {
    "id": "2dffb9e929da40c283b2bdcea7831e44",
    "time": "2021-01-23T02:14:58.239Z",
    "type": "completion"
   },
   {
    "code": "gp.propcorr(acc,'type')",
    "id": "e6a866a6ada746f29a807eeb3a1a78ee",
    "idx": 13,
    "time": "2021-01-23T02:14:59.256Z",
    "type": "execution"
   },
   {
    "id": "e6a866a6ada746f29a807eeb3a1a78ee",
    "time": "2021-01-23T02:14:59.329Z",
    "type": "completion"
   },
   {
    "code": "gp.overallacc(acc,'type')",
    "id": "fb56ef5539ff496e9b040212743e0e0a",
    "idx": 14,
    "time": "2021-01-23T02:15:02.337Z",
    "type": "execution"
   },
   {
    "id": "fb56ef5539ff496e9b040212743e0e0a",
    "time": "2021-01-23T02:15:02.411Z",
    "type": "completion"
   },
   {
    "code": "# set c, the sensitivity of exemplar cloud\ncval=5\n\n# set dimesnsions m as keys, \n    ## set weight of each dimension w_m as values\ndimsvals={'z0':1,'z1':2.953,'z2':.924,'z3':3.420}\n\n# set categories to be considered as items in a list\ncatslist=['vowel','type']\n\n# Get a balanced test set, 50 obs per vowel\ntest = gp.gettestset(pbbark,'vowel',50)",
    "id": "6ed8eb33a8414e21a6c573c609c7eea5",
    "idx": 4,
    "time": "2021-01-23T02:15:14.698Z",
    "type": "execution"
   },
   {
    "id": "6ed8eb33a8414e21a6c573c609c7eea5",
    "time": "2021-01-23T02:15:14.865Z",
    "type": "completion"
   },
   {
    "code": "choices = gp.multicat(test,pbbark,catslist,dimsvals,cval,exclude_self=True,alsoexclude=None, N=1, runnerup=False)",
    "id": "191b4f91c6de40d082ad138571721155",
    "idx": 6,
    "time": "2021-01-23T02:15:17.143Z",
    "type": "execution"
   },
   {
    "code": "acc = gp.checkaccuracy(choices,catslist)",
    "id": "2fd3af9c60cf4631a23542194a0379d4",
    "idx": 8,
    "time": "2021-01-23T02:15:18.583Z",
    "type": "execution"
   },
   {
    "code": "gp.accplot(acc,'vowel')",
    "id": "bff376f2bf1349868ef93ce214ccba81",
    "idx": 9,
    "time": "2021-01-23T02:15:19.287Z",
    "type": "execution"
   },
   {
    "code": "gp.propcorr(acc,'vowel')",
    "id": "7923978dd1224bb18a116542bea56552",
    "idx": 10,
    "time": "2021-01-23T02:15:19.833Z",
    "type": "execution"
   },
   {
    "code": "gp.overallacc(acc,'vowel')",
    "id": "eba6140b1ed0445d8b586668b413f9e9",
    "idx": 11,
    "time": "2021-01-23T02:15:20.354Z",
    "type": "execution"
   },
   {
    "code": "gp.accplot(acc,'type')",
    "id": "2dffb9e929da40c283b2bdcea7831e44",
    "idx": 12,
    "time": "2021-01-23T02:15:21.106Z",
    "type": "execution"
   },
   {
    "code": "gp.propcorr(acc,'type')",
    "id": "e6a866a6ada746f29a807eeb3a1a78ee",
    "idx": 13,
    "time": "2021-01-23T02:15:21.836Z",
    "type": "execution"
   },
   {
    "code": "gp.overallacc(acc,'type')",
    "id": "fb56ef5539ff496e9b040212743e0e0a",
    "idx": 14,
    "time": "2021-01-23T02:15:22.357Z",
    "type": "execution"
   },
   {
    "id": "191b4f91c6de40d082ad138571721155",
    "time": "2021-01-23T02:15:31.507Z",
    "type": "completion"
   },
   {
    "id": "2fd3af9c60cf4631a23542194a0379d4",
    "time": "2021-01-23T02:15:31.510Z",
    "type": "completion"
   },
   {
    "id": "bff376f2bf1349868ef93ce214ccba81",
    "time": "2021-01-23T02:15:31.602Z",
    "type": "completion"
   },
   {
    "id": "7923978dd1224bb18a116542bea56552",
    "time": "2021-01-23T02:15:31.608Z",
    "type": "completion"
   },
   {
    "id": "eba6140b1ed0445d8b586668b413f9e9",
    "time": "2021-01-23T02:15:31.610Z",
    "type": "completion"
   },
   {
    "id": "2dffb9e929da40c283b2bdcea7831e44",
    "time": "2021-01-23T02:15:31.719Z",
    "type": "completion"
   },
   {
    "id": "e6a866a6ada746f29a807eeb3a1a78ee",
    "time": "2021-01-23T02:15:31.742Z",
    "type": "completion"
   },
   {
    "id": "fb56ef5539ff496e9b040212743e0e0a",
    "time": "2021-01-23T02:15:31.763Z",
    "type": "completion"
   },
   {
    "code": "print(\"overall accuracy: \" + gp.overallacc(acc,'vowel'))",
    "id": "eba6140b1ed0445d8b586668b413f9e9",
    "idx": 12,
    "time": "2021-01-23T02:16:06.405Z",
    "type": "execution"
   },
   {
    "id": "eba6140b1ed0445d8b586668b413f9e9",
    "time": "2021-01-23T02:16:06.491Z",
    "type": "completion"
   },
   {
    "code": "print(\"overall accuracy: \" + str(gp.overallacc(acc,'vowel')))",
    "id": "eba6140b1ed0445d8b586668b413f9e9",
    "idx": 12,
    "time": "2021-01-23T02:16:17.817Z",
    "type": "execution"
   },
   {
    "id": "eba6140b1ed0445d8b586668b413f9e9",
    "time": "2021-01-23T02:16:17.888Z",
    "type": "completion"
   },
   {
    "code": "print(\"overall accuracy: \" + str(gp.overallacc(acc,'vowel')))",
    "id": "fb56ef5539ff496e9b040212743e0e0a",
    "idx": 15,
    "time": "2021-01-23T02:16:30.183Z",
    "type": "execution"
   },
   {
    "id": "fb56ef5539ff496e9b040212743e0e0a",
    "time": "2021-01-23T02:16:30.268Z",
    "type": "completion"
   },
   {
    "code": "gp.accplot(acc,'type')",
    "id": "2dffb9e929da40c283b2bdcea7831e44",
    "idx": 14,
    "time": "2021-01-23T02:16:58.680Z",
    "type": "execution"
   },
   {
    "id": "2dffb9e929da40c283b2bdcea7831e44",
    "time": "2021-01-23T02:16:58.987Z",
    "type": "completion"
   },
   {
    "code": "print(\"overall accuracy: \" + str(gp.overallacc(acc,'vowel')))",
    "id": "fb56ef5539ff496e9b040212743e0e0a",
    "idx": 15,
    "time": "2021-01-23T02:17:05.567Z",
    "type": "execution"
   },
   {
    "id": "fb56ef5539ff496e9b040212743e0e0a",
    "time": "2021-01-23T02:17:05.653Z",
    "type": "completion"
   },
   {
    "code": "gp.propcorr(acc,'type')",
    "id": "e6a866a6ada746f29a807eeb3a1a78ee",
    "idx": 16,
    "time": "2021-01-23T02:17:06.311Z",
    "type": "execution"
   },
   {
    "id": "e6a866a6ada746f29a807eeb3a1a78ee",
    "time": "2021-01-23T02:17:06.387Z",
    "type": "completion"
   },
   {
    "code": "gp.confusion(choices,catslist)",
    "id": "637e6fbd31c34deebaff57304b5bd407",
    "idx": 18,
    "time": "2021-01-23T02:18:02.798Z",
    "type": "execution"
   },
   {
    "id": "637e6fbd31c34deebaff57304b5bd407",
    "time": "2021-01-23T02:18:02.923Z",
    "type": "completion"
   },
   {
    "code": "test = pbbark.sample() \nexemplars=exclude(cloud,test,exclude_self=True)\nreset_N(exemplars)",
    "id": "b14e768a7ece449ebe63222927edb661",
    "idx": 20,
    "time": "2021-01-23T21:47:34.576Z",
    "type": "execution"
   },
   {
    "id": "b14e768a7ece449ebe63222927edb661",
    "time": "2021-01-23T21:47:34.689Z",
    "type": "completion"
   },
   {
    "code": "import GCMPy as gp\nimport math\nimport random\nimport matplotlib.pyplot as plt\n#%matplotlib inline\nimport numpy as np\nimport pandas as pd\nfrom pandas import DataFrame\nfrom scipy.optimize import minimize\nimport seaborn as sns\nsns.set(style='ticks', context='paper')\ncolors=[\"#e3c934\",\"#68c4bf\",\"#c51000\",\"#287271\"]\nsns.set_palette(colors)",
    "id": "d227019299f7447b8eb1aa7de45ab696",
    "idx": 0,
    "time": "2021-01-23T21:47:45.146Z",
    "type": "execution"
   },
   {
    "code": "pb52=pd.read_csv('pb52.csv')\npbbark = gp.HzToBark(pb52,[\"F0\",\"F1\",\"F2\",\"F3\"])\npbbark.sample(5)",
    "id": "921890676a8143b297638039497c0ea3",
    "idx": 2,
    "time": "2021-01-23T21:47:45.149Z",
    "type": "execution"
   },
   {
    "code": "# set c, the sensitivity of exemplar cloud\ncval=5\n\n# set dimesnsions m as keys, \n    ## set weight of each dimension w_m as values\ndimsvals={'z0':1,'z1':2.953,'z2':.924,'z3':3.420}\n\n# set categories to be considered as items in a list\ncatslist=['vowel','type']\n\n# Get a balanced test set, 50 obs per vowel\ntest = gp.gettestset(pbbark,'vowel',50)",
    "id": "8758525f93a142a79be9a04cb76de07a",
    "idx": 4,
    "time": "2021-01-23T21:47:45.151Z",
    "type": "execution"
   },
   {
    "code": "choices = gp.multicat(test,pbbark,catslist,dimsvals,cval,exclude_self=True,alsoexclude=None, N=1, runnerup=False)",
    "id": "1162a4dd58114c4e8668dddab1fb4cdb",
    "idx": 6,
    "time": "2021-01-23T21:47:45.153Z",
    "type": "execution"
   },
   {
    "code": "acc = gp.checkaccuracy(choices,catslist)",
    "id": "d86ea6a996a0417f934e7f1773cd0af1",
    "idx": 8,
    "time": "2021-01-23T21:47:45.155Z",
    "type": "execution"
   },
   {
    "code": "gp.accplot(acc,'vowel')",
    "id": "2c253c4e08ea42ea8ed46f0ca4b7a5ee",
    "idx": 10,
    "time": "2021-01-23T21:47:45.157Z",
    "type": "execution"
   },
   {
    "code": "print(\"overall accuracy: \" + str(gp.overallacc(acc,'vowel')))",
    "id": "0115f71f05064e62a301c3a77e5475ad",
    "idx": 11,
    "time": "2021-01-23T21:47:45.159Z",
    "type": "execution"
   },
   {
    "code": "gp.propcorr(acc,'vowel')",
    "id": "d031caea97794b41900564c3828b9ffe",
    "idx": 12,
    "time": "2021-01-23T21:47:45.161Z",
    "type": "execution"
   },
   {
    "code": "gp.accplot(acc,'type')",
    "id": "3207cdfd03cf47a182bd0fbe77c3e637",
    "idx": 14,
    "time": "2021-01-23T21:47:45.163Z",
    "type": "execution"
   },
   {
    "code": "print(\"overall accuracy: \" + str(gp.overallacc(acc,'vowel')))",
    "id": "d25c8287f90e481f85bf230551decca8",
    "idx": 15,
    "time": "2021-01-23T21:47:45.165Z",
    "type": "execution"
   },
   {
    "code": "gp.propcorr(acc,'type')",
    "id": "008904407fd44d1d907a7c06da83c7fc",
    "idx": 16,
    "time": "2021-01-23T21:47:45.167Z",
    "type": "execution"
   },
   {
    "id": "d227019299f7447b8eb1aa7de45ab696",
    "time": "2021-01-23T21:47:46.252Z",
    "type": "completion"
   },
   {
    "id": "921890676a8143b297638039497c0ea3",
    "time": "2021-01-23T21:47:46.318Z",
    "type": "completion"
   },
   {
    "id": "8758525f93a142a79be9a04cb76de07a",
    "time": "2021-01-23T21:47:46.327Z",
    "type": "completion"
   },
   {
    "id": "1162a4dd58114c4e8668dddab1fb4cdb",
    "time": "2021-01-23T21:48:02.409Z",
    "type": "completion"
   },
   {
    "id": "d86ea6a996a0417f934e7f1773cd0af1",
    "time": "2021-01-23T21:48:02.414Z",
    "type": "completion"
   },
   {
    "id": "2c253c4e08ea42ea8ed46f0ca4b7a5ee",
    "time": "2021-01-23T21:48:02.752Z",
    "type": "completion"
   },
   {
    "id": "0115f71f05064e62a301c3a77e5475ad",
    "time": "2021-01-23T21:48:02.778Z",
    "type": "completion"
   },
   {
    "id": "d031caea97794b41900564c3828b9ffe",
    "time": "2021-01-23T21:48:02.782Z",
    "type": "completion"
   },
   {
    "id": "3207cdfd03cf47a182bd0fbe77c3e637",
    "time": "2021-01-23T21:48:02.899Z",
    "type": "completion"
   },
   {
    "id": "d25c8287f90e481f85bf230551decca8",
    "time": "2021-01-23T21:48:02.901Z",
    "type": "completion"
   },
   {
    "id": "008904407fd44d1d907a7c06da83c7fc",
    "time": "2021-01-23T21:48:02.909Z",
    "type": "completion"
   },
   {
    "code": "gp.confusion(choices,catslist)",
    "id": "ddeef82a32dd48198a0b250cc8930be5",
    "idx": 18,
    "time": "2021-01-23T21:48:37.665Z",
    "type": "execution"
   },
   {
    "id": "ddeef82a32dd48198a0b250cc8930be5",
    "time": "2021-01-23T21:48:37.801Z",
    "type": "completion"
   },
   {
    "code": "test = pbbark.sample() \nexemplars=exclude(cloud,test,exclude_self=True)\nreset_N(exemplars)",
    "id": "b14e768a7ece449ebe63222927edb661",
    "idx": 20,
    "time": "2021-01-23T21:48:45.291Z",
    "type": "execution"
   },
   {
    "id": "b14e768a7ece449ebe63222927edb661",
    "time": "2021-01-23T21:48:45.426Z",
    "type": "completion"
   },
   {
    "code": "test = pbbark.sample() \nexemplars=gp.exclude(cloud,test,exclude_self=True)\nreset_N(exemplars)",
    "id": "b14e768a7ece449ebe63222927edb661",
    "idx": 20,
    "time": "2021-01-23T21:49:11.366Z",
    "type": "execution"
   },
   {
    "id": "b14e768a7ece449ebe63222927edb661",
    "time": "2021-01-23T21:49:11.426Z",
    "type": "completion"
   },
   {
    "code": "test = pbbark.sample() \nexemplars=gp.exclude(pbbark,test,exclude_self=True)\nreset_N(exemplars)",
    "id": "b14e768a7ece449ebe63222927edb661",
    "idx": 20,
    "time": "2021-01-23T21:49:19.979Z",
    "type": "execution"
   },
   {
    "id": "b14e768a7ece449ebe63222927edb661",
    "time": "2021-01-23T21:49:20.063Z",
    "type": "completion"
   },
   {
    "code": "test = pbbark.sample() \nexemplars=gp.exclude(pbbark,test,exclude_self=True)\ngp.reset_N(exemplars)",
    "id": "b14e768a7ece449ebe63222927edb661",
    "idx": 20,
    "time": "2021-01-23T21:49:25.126Z",
    "type": "execution"
   },
   {
    "id": "b14e768a7ece449ebe63222927edb661",
    "time": "2021-01-23T21:49:25.234Z",
    "type": "completion"
   },
   {
    "code": "test = pbbark.sample() \nexemplars=gp.exclude(pbbark,test,exclude_self=True)\ngp.reset_N(exemplars)\nprint(exemplars.head())",
    "id": "b14e768a7ece449ebe63222927edb661",
    "idx": 20,
    "time": "2021-01-23T21:50:34.929Z",
    "type": "execution"
   },
   {
    "id": "b14e768a7ece449ebe63222927edb661",
    "time": "2021-01-23T21:50:35.014Z",
    "type": "completion"
   },
   {
    "code": "exemplars.isin(test)",
    "id": "ce63999973574fe7960958dbab1a7711",
    "idx": 21,
    "time": "2021-01-23T21:52:38.382Z",
    "type": "execution"
   },
   {
    "id": "ce63999973574fe7960958dbab1a7711",
    "time": "2021-01-23T21:52:38.505Z",
    "type": "completion"
   },
   {
    "code": "test.isin(exemplars)",
    "id": "ce63999973574fe7960958dbab1a7711",
    "idx": 21,
    "time": "2021-01-23T21:52:47.204Z",
    "type": "execution"
   },
   {
    "id": "ce63999973574fe7960958dbab1a7711",
    "time": "2021-01-23T21:52:47.288Z",
    "type": "completion"
   },
   {
    "code": "test = pbbark.sample() \nexemplars=gp.exclude(pbbark,test,exclude_self=True)\ngp.reset_N(exemplars)\nprint('Test:')\nprint(test)\nprint('Exemplars:')\nprint(exemplars.sample())\nprint('Is test contained within exemplars?')\nprint(test.isin(exemplars))",
    "id": "b14e768a7ece449ebe63222927edb661",
    "idx": 20,
    "time": "2021-01-23T21:53:47.647Z",
    "type": "execution"
   },
   {
    "id": "b14e768a7ece449ebe63222927edb661",
    "time": "2021-01-23T21:53:47.749Z",
    "type": "completion"
   },
   {
    "code": "import GCMPy as gp\nimport math\nimport random\nimport matplotlib.pyplot as plt\n#%matplotlib inline\nimport numpy as np\nimport pandas as pd\nfrom pandas import DataFrame\nfrom scipy.optimize import minimize\nimport seaborn as sns\nsns.set(style='ticks', context='paper')\ncolors=[\"#e3c934\",\"#68c4bf\",\"#c51000\",\"#287271\"]\nsns.set_palette(colors)",
    "id": "00a632fb9c824c9797d772a7dbb672ec",
    "idx": 0,
    "time": "2021-01-25T23:18:06.830Z",
    "type": "execution"
   },
   {
    "code": "pb52=pd.read_csv('pb52.csv')\npbbark = gp.HzToBark(pb52,[\"F0\",\"F1\",\"F2\",\"F3\"])\npbbark.sample(5)",
    "id": "c6d56674bc8c485990472628fe666504",
    "idx": 2,
    "time": "2021-01-25T23:18:06.842Z",
    "type": "execution"
   },
   {
    "code": "# set c, the sensitivity of exemplar cloud\ncval=5\n\n# set dimesnsions m as keys, \n    ## set weight of each dimension w_m as values\ndimsvals={'z0':1,'z1':2.953,'z2':.924,'z3':3.420}\n\n# set categories to be considered as items in a list\ncatslist=['vowel','type']\n\n# Get a balanced test set, 50 obs per vowel\ntest = gp.gettestset(pbbark,'vowel',50)",
    "id": "0170b25144f741808a58b0510388d273",
    "idx": 4,
    "time": "2021-01-25T23:18:06.844Z",
    "type": "execution"
   },
   {
    "code": "choices = gp.multicat(test,pbbark,catslist,dimsvals,cval,exclude_self=True,alsoexclude=None, N=1, runnerup=False)",
    "id": "73f000e936da4f0c8096d50602dfd0e9",
    "idx": 6,
    "time": "2021-01-25T23:18:06.847Z",
    "type": "execution"
   },
   {
    "code": "acc = gp.checkaccuracy(choices,catslist)",
    "id": "c597d0ba21c849d98f4494b305fae389",
    "idx": 8,
    "time": "2021-01-25T23:18:06.850Z",
    "type": "execution"
   },
   {
    "code": "gp.accplot(acc,'vowel')",
    "id": "9218210b89044d1e8c12802ef204b013",
    "idx": 10,
    "time": "2021-01-25T23:18:06.853Z",
    "type": "execution"
   },
   {
    "code": "print(\"overall accuracy: \" + str(gp.overallacc(acc,'vowel')))",
    "id": "3646a0c0eb1a490dbe6e0eb600b11494",
    "idx": 11,
    "time": "2021-01-25T23:18:06.856Z",
    "type": "execution"
   },
   {
    "code": "gp.propcorr(acc,'vowel')",
    "id": "c63bf1c9f91f41288b44cb1481df383a",
    "idx": 12,
    "time": "2021-01-25T23:18:06.860Z",
    "type": "execution"
   },
   {
    "code": "gp.accplot(acc,'type')",
    "id": "67bfa699832f4646bc6ad7b4df3e5d3c",
    "idx": 14,
    "time": "2021-01-25T23:18:06.863Z",
    "type": "execution"
   },
   {
    "code": "print(\"overall accuracy: \" + str(gp.overallacc(acc,'vowel')))",
    "id": "7d6147820d694b0683edbfac4fcfda91",
    "idx": 15,
    "time": "2021-01-25T23:18:06.865Z",
    "type": "execution"
   },
   {
    "code": "gp.propcorr(acc,'type')",
    "id": "61c0fefc9caa4ede82410f7e0050e33a",
    "idx": 16,
    "time": "2021-01-25T23:18:06.868Z",
    "type": "execution"
   },
   {
    "code": "gp.confusion(choices,catslist)",
    "id": "ce6d602567df41e890fb174fd9206f6d",
    "idx": 18,
    "time": "2021-01-25T23:18:06.870Z",
    "type": "execution"
   },
   {
    "id": "00a632fb9c824c9797d772a7dbb672ec",
    "time": "2021-01-25T23:18:07.995Z",
    "type": "completion"
   },
   {
    "id": "c6d56674bc8c485990472628fe666504",
    "time": "2021-01-25T23:18:08.057Z",
    "type": "completion"
   },
   {
    "id": "0170b25144f741808a58b0510388d273",
    "time": "2021-01-25T23:18:08.068Z",
    "type": "completion"
   },
   {
    "id": "73f000e936da4f0c8096d50602dfd0e9",
    "time": "2021-01-25T23:18:22.822Z",
    "type": "completion"
   },
   {
    "id": "c597d0ba21c849d98f4494b305fae389",
    "time": "2021-01-25T23:18:22.826Z",
    "type": "completion"
   },
   {
    "id": "9218210b89044d1e8c12802ef204b013",
    "time": "2021-01-25T23:18:23.130Z",
    "type": "completion"
   },
   {
    "id": "3646a0c0eb1a490dbe6e0eb600b11494",
    "time": "2021-01-25T23:18:23.138Z",
    "type": "completion"
   },
   {
    "id": "c63bf1c9f91f41288b44cb1481df383a",
    "time": "2021-01-25T23:18:23.150Z",
    "type": "completion"
   },
   {
    "id": "67bfa699832f4646bc6ad7b4df3e5d3c",
    "time": "2021-01-25T23:18:23.259Z",
    "type": "completion"
   },
   {
    "id": "7d6147820d694b0683edbfac4fcfda91",
    "time": "2021-01-25T23:18:23.271Z",
    "type": "completion"
   },
   {
    "id": "61c0fefc9caa4ede82410f7e0050e33a",
    "time": "2021-01-25T23:18:23.284Z",
    "type": "completion"
   },
   {
    "id": "ce6d602567df41e890fb174fd9206f6d",
    "time": "2021-01-25T23:18:23.318Z",
    "type": "completion"
   },
   {
    "code": "# 3) Calculate activation\nactivation = gp.activation(test,exemplars,dimsvals,cval)\n\n# View activation of exemplars\nactv = gp.getactiv(activation,'z2','z1','vowel')\ngp.activplot(actv,'z2','z1','vowel',test)",
    "id": "cd778971791345d1a7db13a7a4a5f5b2",
    "idx": 21,
    "time": "2021-01-25T23:22:00.073Z",
    "type": "execution"
   },
   {
    "id": "cd778971791345d1a7db13a7a4a5f5b2",
    "time": "2021-01-25T23:22:00.362Z",
    "type": "completion"
   },
   {
    "code": "# Choose test stimulus\ntest = pbbark.sample() \n\n# 1) Exclude that exemplar from the exemplar cloud\nexemplars=gp.exclude(pbbark,test,exclude_self=True)\n\n# 2) Add base activation\ngp.reset_N(exemplars)\n\n# view the test stimulus, 10 random exemplars in the cloud,\n#    and verify that the test stimulus has been removed from the cloud\nprint('Test:')\nprint(test)\nprint('Exemplars:')\nprint(exemplars.sample(10))\nprint('Is test contained within exemplars?')\nprint(test.isin(exemplars))",
    "id": "dc1d54780a01470d8de5f2e105c33c2c",
    "idx": 20,
    "time": "2021-01-25T23:22:04.897Z",
    "type": "execution"
   },
   {
    "id": "dc1d54780a01470d8de5f2e105c33c2c",
    "time": "2021-01-25T23:22:04.988Z",
    "type": "completion"
   },
   {
    "code": "# 3) Calculate activation\nactivation = gp.activation(test,exemplars,dimsvals,cval)\n\n# View activation of exemplars\nactv = gp.getactiv(activation,'z2','z1','vowel')\ngp.activplot(actv,'z2','z1','vowel',test)",
    "id": "cd778971791345d1a7db13a7a4a5f5b2",
    "idx": 21,
    "time": "2021-01-25T23:22:08.647Z",
    "type": "execution"
   },
   {
    "id": "cd778971791345d1a7db13a7a4a5f5b2",
    "time": "2021-01-25T23:22:09.095Z",
    "type": "completion"
   },
   {
    "code": "# Choose test stimulus\ntest = pbbark.sample() \n\n# 1) Exclude that exemplar from the exemplar cloud\nexemplars=gp.exclude(pbbark,test,exclude_self=True)\n\n# 2) Add base activation\ngp.reset_N(exemplars)",
    "id": "dc1d54780a01470d8de5f2e105c33c2c",
    "idx": 20,
    "time": "2021-01-25T23:22:28.452Z",
    "type": "execution"
   },
   {
    "id": "dc1d54780a01470d8de5f2e105c33c2c",
    "time": "2021-01-25T23:22:28.583Z",
    "type": "completion"
   },
   {
    "code": "# Choose test stimulus\ntest = pbbark.sample() \n\n# 1) Exclude that exemplar from the exemplar cloud\nexemplars=gp.exclude(pbbark,test,exclude_self=True)\n\n# 2) Add base activation\ngp.reset_N(exemplars)\n\n",
    "id": "dc1d54780a01470d8de5f2e105c33c2c",
    "idx": 20,
    "time": "2021-01-25T23:22:36.152Z",
    "type": "execution"
   },
   {
    "id": "dc1d54780a01470d8de5f2e105c33c2c",
    "time": "2021-01-25T23:22:36.285Z",
    "type": "completion"
   },
   {
    "code": "# view the test stimulus and verify that the test stimulus has been removed from the cloud\nprint('Test:')\nprint(test)\nprint('Is test contained within exemplars?')\nprint(test.isin(exemplars))",
    "id": "681b9316e3ec4b62a816cf7d1361b681",
    "idx": 21,
    "time": "2021-01-25T23:23:05.849Z",
    "type": "execution"
   },
   {
    "id": "681b9316e3ec4b62a816cf7d1361b681",
    "time": "2021-01-25T23:23:05.942Z",
    "type": "completion"
   },
   {
    "code": "# 4) calculate probabilities of labels\n\nprobs = gp.probs(activation,catslist)",
    "id": "43da6a6208214fb28ed1af401c904f55",
    "idx": 23,
    "time": "2021-01-25T23:24:32.126Z",
    "type": "execution"
   },
   {
    "id": "43da6a6208214fb28ed1af401c904f55",
    "time": "2021-01-25T23:24:32.196Z",
    "type": "completion"
   },
   {
    "code": "probs",
    "id": "86085669f5bb479b802977bb403296a5",
    "idx": 24,
    "time": "2021-01-25T23:24:35.107Z",
    "type": "execution"
   },
   {
    "id": "86085669f5bb479b802977bb403296a5",
    "time": "2021-01-25T23:24:35.171Z",
    "type": "completion"
   },
   {
    "code": "# view the test stimulus, 3 random exemplars\n# and verify that the test stimulus has been removed from the cloud\nprint('Test:')\nprint(test)\nprint()\n\nprint('3 exemplars:')\nprint(exemplars.sample(3))\nprint()\n\nprint('Is test contained within exemplars?')\nprint(test.isin(exemplars))",
    "id": "681b9316e3ec4b62a816cf7d1361b681",
    "idx": 21,
    "time": "2021-01-25T23:25:39.730Z",
    "type": "execution"
   },
   {
    "id": "681b9316e3ec4b62a816cf7d1361b681",
    "time": "2021-01-25T23:25:39.851Z",
    "type": "completion"
   },
   {
    "code": "# view the test stimulus, 3 random exemplars\n# and verify that the test stimulus has been removed from the cloud\nprint('Test:')\nprint(test)\nprint()\nprint()\n\nprint('3 exemplars:')\nprint(exemplars.sample(3))\nprint()\nprint()\n\nprint('Is test contained within exemplars?')\nprint(test.isin(exemplars))",
    "id": "681b9316e3ec4b62a816cf7d1361b681",
    "idx": 21,
    "time": "2021-01-25T23:25:52.275Z",
    "type": "execution"
   },
   {
    "id": "681b9316e3ec4b62a816cf7d1361b681",
    "time": "2021-01-25T23:25:52.372Z",
    "type": "completion"
   },
   {
    "code": "# 4) calculate probabilities of labels\n\nprobs = gp.probs(activation,catslist)\nprobs",
    "id": "43da6a6208214fb28ed1af401c904f55",
    "idx": 23,
    "time": "2021-01-25T23:26:05.828Z",
    "type": "execution"
   },
   {
    "id": "43da6a6208214fb28ed1af401c904f55",
    "time": "2021-01-25T23:26:05.898Z",
    "type": "completion"
   },
   {
    "code": "# 4) calculate probabilities of labels\n\npr = gp.probs(activation,catslist)\npr",
    "id": "43da6a6208214fb28ed1af401c904f55",
    "idx": 23,
    "time": "2021-01-25T23:28:21.536Z",
    "type": "execution"
   },
   {
    "id": "43da6a6208214fb28ed1af401c904f55",
    "time": "2021-01-25T23:28:21.622Z",
    "type": "completion"
   },
   {
    "code": "# 5) Choose labels\nchoices_2 = gp.choose(pr,test,catslist,runnerup=True)\nchoices_2",
    "id": "86085669f5bb479b802977bb403296a5",
    "idx": 24,
    "time": "2021-01-25T23:28:41.138Z",
    "type": "execution"
   },
   {
    "id": "86085669f5bb479b802977bb403296a5",
    "time": "2021-01-25T23:28:41.275Z",
    "type": "completion"
   },
   {
    "code": "print('Vowel 1st choice is '+ choices_2[vowelChoice])",
    "id": "d82d87a9a097416799736d5ddd935297",
    "idx": 25,
    "time": "2021-01-25T23:30:34.449Z",
    "type": "execution"
   },
   {
    "id": "d82d87a9a097416799736d5ddd935297",
    "time": "2021-01-25T23:30:34.543Z",
    "type": "completion"
   },
   {
    "code": "print('Vowel 1st choice is '+ choices_2.loc[vowelChoice])",
    "id": "d82d87a9a097416799736d5ddd935297",
    "idx": 25,
    "time": "2021-01-25T23:30:45.345Z",
    "type": "execution"
   },
   {
    "id": "d82d87a9a097416799736d5ddd935297",
    "time": "2021-01-25T23:30:45.429Z",
    "type": "completion"
   },
   {
    "code": "# 5) Choose labels\nchoices_2 = gp.choose(pr,test,catslist,runnerup=True)\nchoices_2",
    "id": "86085669f5bb479b802977bb403296a5",
    "idx": 24,
    "time": "2021-01-25T23:30:52.965Z",
    "type": "execution"
   },
   {
    "id": "86085669f5bb479b802977bb403296a5",
    "time": "2021-01-25T23:30:53.079Z",
    "type": "completion"
   },
   {
    "code": "print('Vowel 1st choice is '+ choices_2['vowelChoice'])",
    "id": "d82d87a9a097416799736d5ddd935297",
    "idx": 25,
    "time": "2021-01-25T23:31:05.298Z",
    "type": "execution"
   },
   {
    "id": "d82d87a9a097416799736d5ddd935297",
    "time": "2021-01-25T23:31:05.369Z",
    "type": "completion"
   },
   {
    "code": "print('Vowel 1st choice is '+ choices_2.loc['vowelChoice'])",
    "id": "d82d87a9a097416799736d5ddd935297",
    "idx": 25,
    "time": "2021-01-25T23:31:13.843Z",
    "type": "execution"
   },
   {
    "id": "d82d87a9a097416799736d5ddd935297",
    "time": "2021-01-25T23:31:13.968Z",
    "type": "completion"
   },
   {
    "code": "print('Vowel 1st choice is '+ choices_2.iloc['vowelChoice'])",
    "id": "d82d87a9a097416799736d5ddd935297",
    "idx": 25,
    "time": "2021-01-25T23:31:19.562Z",
    "type": "execution"
   },
   {
    "id": "d82d87a9a097416799736d5ddd935297",
    "time": "2021-01-25T23:31:19.658Z",
    "type": "completion"
   },
   {
    "code": "print('Vowel 1st choice is '+ choices_2['vowelChoice'])",
    "id": "d82d87a9a097416799736d5ddd935297",
    "idx": 25,
    "time": "2021-01-25T23:31:23.153Z",
    "type": "execution"
   },
   {
    "id": "d82d87a9a097416799736d5ddd935297",
    "time": "2021-01-25T23:31:23.234Z",
    "type": "completion"
   },
   {
    "code": "print('Vowel 1st choice is '+ choices_2['vowelChoice'] + ' with probability ' + choices_2['vowelProb'])",
    "id": "d82d87a9a097416799736d5ddd935297",
    "idx": 25,
    "time": "2021-01-25T23:31:52.037Z",
    "type": "execution"
   },
   {
    "id": "d82d87a9a097416799736d5ddd935297",
    "time": "2021-01-25T23:31:52.173Z",
    "type": "completion"
   },
   {
    "code": "print('Vowel 1st choice is '+ choices_2['vowelChoice'] + ' with probability ' + str(choices_2['vowelProb']))",
    "id": "d82d87a9a097416799736d5ddd935297",
    "idx": 25,
    "time": "2021-01-25T23:32:14.266Z",
    "type": "execution"
   },
   {
    "id": "d82d87a9a097416799736d5ddd935297",
    "time": "2021-01-25T23:32:14.336Z",
    "type": "completion"
   },
   {
    "code": "print('Vowel 1st choice is '+ choices_2['vowelChoice'] + ' with probability ' + str(choices_2['vowelProb']))",
    "id": "d82d87a9a097416799736d5ddd935297",
    "idx": 25,
    "time": "2021-01-25T23:32:24.880Z",
    "type": "execution"
   },
   {
    "id": "d82d87a9a097416799736d5ddd935297",
    "time": "2021-01-25T23:32:24.941Z",
    "type": "completion"
   },
   {
    "code": "print('Vowel 1st choice is '+ str(choices_2['vowelChoice']) + ' with probability ' + str(choices_2['vowelProb']))",
    "id": "d82d87a9a097416799736d5ddd935297",
    "idx": 25,
    "time": "2021-01-25T23:32:42.360Z",
    "type": "execution"
   },
   {
    "id": "d82d87a9a097416799736d5ddd935297",
    "time": "2021-01-25T23:32:42.432Z",
    "type": "completion"
   },
   {
    "code": "print('Vowel 1st choice is '+ choices_2['vowelChoice'] + ' with probability ' + str(choices_2['vowelProb']))",
    "id": "d82d87a9a097416799736d5ddd935297",
    "idx": 25,
    "time": "2021-01-25T23:33:52.395Z",
    "type": "execution"
   },
   {
    "id": "d82d87a9a097416799736d5ddd935297",
    "time": "2021-01-25T23:33:52.462Z",
    "type": "completion"
   },
   {
    "code": "choices_2['vowelProb']",
    "id": "d82d87a9a097416799736d5ddd935297",
    "idx": 25,
    "time": "2021-01-25T23:34:12.334Z",
    "type": "execution"
   },
   {
    "id": "d82d87a9a097416799736d5ddd935297",
    "time": "2021-01-25T23:34:12.393Z",
    "type": "completion"
   },
   {
    "code": "choices_2.iloc[0]['vowelProb']",
    "id": "d82d87a9a097416799736d5ddd935297",
    "idx": 25,
    "time": "2021-01-25T23:34:21.739Z",
    "type": "execution"
   },
   {
    "id": "d82d87a9a097416799736d5ddd935297",
    "time": "2021-01-25T23:34:21.801Z",
    "type": "completion"
   },
   {
    "code": "print('Vowel')\nprint('1st choice: ' + choices_2.iloc[0]['vowelChoice'] + ' with probability ' + choices_2.iloc[0]['vowelProb'])",
    "id": "d82d87a9a097416799736d5ddd935297",
    "idx": 25,
    "time": "2021-01-25T23:35:16.540Z",
    "type": "execution"
   },
   {
    "id": "d82d87a9a097416799736d5ddd935297",
    "time": "2021-01-25T23:35:16.651Z",
    "type": "completion"
   },
   {
    "code": "print('Vowel')\nprint('1st choice: ' + choices_2.iloc[0]['vowelChoice'] + ' with probability ' + str(choices_2.iloc[0]['vowelProb']))",
    "id": "d82d87a9a097416799736d5ddd935297",
    "idx": 25,
    "time": "2021-01-25T23:35:26.266Z",
    "type": "execution"
   },
   {
    "id": "d82d87a9a097416799736d5ddd935297",
    "time": "2021-01-25T23:35:26.338Z",
    "type": "completion"
   },
   {
    "code": "print('Vowel')\nprint('1st choice: ' + choices_2.iloc[0]['vowelChoice'] + ' with probability ' + str(choices_2.iloc[0]['vowelProb']))\nprint()\nprint('2nd choice: ' + choices_2.iloc[0]['vowelChoice2'] + ' with probability ' + str(choices_2.iloc[0]['vowelChoice2Prob']))",
    "id": "d82d87a9a097416799736d5ddd935297",
    "idx": 25,
    "time": "2021-01-25T23:36:05.056Z",
    "type": "execution"
   },
   {
    "id": "d82d87a9a097416799736d5ddd935297",
    "time": "2021-01-25T23:36:05.117Z",
    "type": "completion"
   },
   {
    "code": "print('Vowel')\nprint('1st choice: ' + choices_2.iloc[0]['vowelChoice'] + ' with probability ' + str(choices_2.iloc[0]['vowelProb']))\nprint('2nd choice: ' + choices_2.iloc[0]['vowelChoice2'] + ' with probability ' + str(choices_2.iloc[0]['vowelChoice2Prob']))\n\nprint()\nprint('Speaker type')\nprint('1st choice: ' + choices_2.iloc[0]['typeChoice'] + ' with probability ' + str(choices_2.iloc[0]['typeProb']))\nprint('2nd choice: ' + choices_2.iloc[0]['typeChoice2'] + ' with probability ' + str(choices_2.iloc[0]['typeChoice2Prob']))",
    "id": "d82d87a9a097416799736d5ddd935297",
    "idx": 25,
    "time": "2021-01-25T23:37:00.523Z",
    "type": "execution"
   },
   {
    "id": "d82d87a9a097416799736d5ddd935297",
    "time": "2021-01-25T23:37:00.599Z",
    "type": "completion"
   },
   {
    "code": "# Choose test stimulus\ntest = pbbark.sample() \n\n# 1) Exclude that exemplar from the exemplar cloud\nexemplars=gp.exclude(pbbark,test,exclude_self=True)\n\n# 2) Add base activation\nexemplars = gp.reset_N(exemplars)",
    "id": "dc1d54780a01470d8de5f2e105c33c2c",
    "idx": 20,
    "time": "2021-01-25T23:37:26.460Z",
    "type": "execution"
   },
   {
    "code": "# view the test stimulus, 3 random exemplars\n# and verify that the test stimulus has been removed from the cloud\nprint('Test:')\nprint(test)\nprint()\nprint()\n\nprint('3 exemplars:')\nprint(exemplars.sample(3))\nprint()\nprint()\n\nprint('Is test contained within exemplars?')\nprint(test.isin(exemplars))",
    "id": "681b9316e3ec4b62a816cf7d1361b681",
    "idx": 21,
    "time": "2021-01-25T23:37:26.462Z",
    "type": "execution"
   },
   {
    "code": "# 3) Calculate activation\nactivation = gp.activation(test,exemplars,dimsvals,cval)\n\n# View activation of exemplars\nactv = gp.getactiv(activation,'z2','z1','vowel')\ngp.activplot(actv,'z2','z1','vowel',test)",
    "id": "cd778971791345d1a7db13a7a4a5f5b2",
    "idx": 22,
    "time": "2021-01-25T23:37:26.463Z",
    "type": "execution"
   },
   {
    "code": "# 4) calculate probabilities of labels\n\npr = gp.probs(activation,catslist)\npr",
    "id": "43da6a6208214fb28ed1af401c904f55",
    "idx": 23,
    "time": "2021-01-25T23:37:26.465Z",
    "type": "execution"
   },
   {
    "code": "# 5) Choose labels\nchoices_2 = gp.choose(pr,test,catslist,runnerup=True)\nchoices_2",
    "id": "86085669f5bb479b802977bb403296a5",
    "idx": 24,
    "time": "2021-01-25T23:37:26.467Z",
    "type": "execution"
   },
   {
    "code": "print('Vowel')\nprint('1st choice: ' + choices_2.iloc[0]['vowelChoice'] + ' with probability ' + str(choices_2.iloc[0]['vowelProb']))\nprint('2nd choice: ' + choices_2.iloc[0]['vowelChoice2'] + ' with probability ' + str(choices_2.iloc[0]['vowelChoice2Prob']))\n\nprint()\nprint('Speaker type')\nprint('1st choice: ' + choices_2.iloc[0]['typeChoice'] + ' with probability ' + str(choices_2.iloc[0]['typeProb']))\nprint('2nd choice: ' + choices_2.iloc[0]['typeChoice2'] + ' with probability ' + str(choices_2.iloc[0]['typeChoice2Prob']))",
    "id": "d82d87a9a097416799736d5ddd935297",
    "idx": 25,
    "time": "2021-01-25T23:37:26.469Z",
    "type": "execution"
   },
   {
    "id": "dc1d54780a01470d8de5f2e105c33c2c",
    "time": "2021-01-25T23:37:26.549Z",
    "type": "completion"
   },
   {
    "id": "681b9316e3ec4b62a816cf7d1361b681",
    "time": "2021-01-25T23:37:26.571Z",
    "type": "completion"
   },
   {
    "id": "cd778971791345d1a7db13a7a4a5f5b2",
    "time": "2021-01-25T23:37:26.817Z",
    "type": "completion"
   },
   {
    "id": "43da6a6208214fb28ed1af401c904f55",
    "time": "2021-01-25T23:37:26.824Z",
    "type": "completion"
   },
   {
    "id": "86085669f5bb479b802977bb403296a5",
    "time": "2021-01-25T23:37:26.848Z",
    "type": "completion"
   },
   {
    "id": "d82d87a9a097416799736d5ddd935297",
    "time": "2021-01-25T23:37:26.873Z",
    "type": "completion"
   },
   {
    "code": "# 6) Check accuracy\ngp.checkaccuracy(choice_2,catslist)",
    "id": "4f459b12552448e094ca65c83e021c31",
    "idx": 26,
    "time": "2021-01-25T23:39:01.777Z",
    "type": "execution"
   },
   {
    "id": "4f459b12552448e094ca65c83e021c31",
    "time": "2021-01-25T23:39:01.854Z",
    "type": "completion"
   },
   {
    "code": "# 6) Check accuracy\ngp.checkaccuracy(choices_2,catslist)",
    "id": "4f459b12552448e094ca65c83e021c31",
    "idx": 26,
    "time": "2021-01-25T23:39:05.399Z",
    "type": "execution"
   },
   {
    "id": "4f459b12552448e094ca65c83e021c31",
    "time": "2021-01-25T23:39:05.518Z",
    "type": "completion"
   },
   {
    "code": "print('Was vowel accurate?' + accu.iloc[0]['vowelAcc'])",
    "id": "82ecf23a618e4498b8b6b763e8d34a81",
    "idx": 27,
    "time": "2021-01-25T23:39:59.123Z",
    "type": "execution"
   },
   {
    "id": "82ecf23a618e4498b8b6b763e8d34a81",
    "time": "2021-01-25T23:39:59.191Z",
    "type": "completion"
   },
   {
    "code": "# 6) Check accuracy\naccu = gp.checkaccuracy(choices_2,catslist)",
    "id": "4f459b12552448e094ca65c83e021c31",
    "idx": 26,
    "time": "2021-01-25T23:40:03.034Z",
    "type": "execution"
   },
   {
    "id": "4f459b12552448e094ca65c83e021c31",
    "time": "2021-01-25T23:40:03.106Z",
    "type": "completion"
   },
   {
    "code": "print('Was vowel accurate?' + accu.iloc[0]['vowelAcc'])",
    "id": "82ecf23a618e4498b8b6b763e8d34a81",
    "idx": 27,
    "time": "2021-01-25T23:40:03.751Z",
    "type": "execution"
   },
   {
    "id": "82ecf23a618e4498b8b6b763e8d34a81",
    "time": "2021-01-25T23:40:03.842Z",
    "type": "completion"
   },
   {
    "code": "print('Was vowel accurate?   ' + accu.iloc[0]['vowelAcc'])\nprint('Was speaker type accurate?   ' + accu.iloc[0]['typeAcc'])",
    "id": "82ecf23a618e4498b8b6b763e8d34a81",
    "idx": 27,
    "time": "2021-01-25T23:40:28.203Z",
    "type": "execution"
   },
   {
    "id": "82ecf23a618e4498b8b6b763e8d34a81",
    "time": "2021-01-25T23:40:28.282Z",
    "type": "completion"
   },
   {
    "code": "print('Was vowel categorized accurately?   ' + accu.iloc[0]['vowelAcc'])\nprint('Was speaker type categorized accurately?   ' + accu.iloc[0]['typeAcc'])",
    "id": "82ecf23a618e4498b8b6b763e8d34a81",
    "idx": 27,
    "time": "2021-01-25T23:40:49.849Z",
    "type": "execution"
   },
   {
    "id": "82ecf23a618e4498b8b6b763e8d34a81",
    "time": "2021-01-25T23:40:49.909Z",
    "type": "completion"
   },
   {
    "code": "print('Was vowel categorized accurately?          ' + accu.iloc[0]['vowelAcc'])\nprint('Was speaker type categorized accurately?   ' + accu.iloc[0]['typeAcc'])",
    "id": "82ecf23a618e4498b8b6b763e8d34a81",
    "idx": 27,
    "time": "2021-01-25T23:40:58.083Z",
    "type": "execution"
   },
   {
    "id": "82ecf23a618e4498b8b6b763e8d34a81",
    "time": "2021-01-25T23:40:58.143Z",
    "type": "completion"
   },
   {
    "code": "print('Was *vowel* categorized accurately?          ' + accu.iloc[0]['vowelAcc'])\nprint('Was speaker type categorized accurately?   ' + accu.iloc[0]['typeAcc'])",
    "id": "82ecf23a618e4498b8b6b763e8d34a81",
    "idx": 27,
    "time": "2021-01-25T23:41:06.138Z",
    "type": "execution"
   },
   {
    "id": "82ecf23a618e4498b8b6b763e8d34a81",
    "time": "2021-01-25T23:41:06.199Z",
    "type": "completion"
   },
   {
    "code": "print('Was vowel categorized accurately?          ' + accu.iloc[0]['vowelAcc'])\nprint('Was speaker type categorized accurately?   ' + accu.iloc[0]['typeAcc'])",
    "id": "82ecf23a618e4498b8b6b763e8d34a81",
    "idx": 27,
    "time": "2021-01-25T23:41:14.023Z",
    "type": "execution"
   },
   {
    "id": "82ecf23a618e4498b8b6b763e8d34a81",
    "time": "2021-01-25T23:41:14.086Z",
    "type": "completion"
   }
  ],
  "kernelspec": {
   "display_name": "Python 3 (ipykernel)",
   "language": "python",
   "name": "python3"
  },
  "language_info": {
   "codemirror_mode": {
    "name": "ipython",
    "version": 3
   },
   "file_extension": ".py",
   "mimetype": "text/x-python",
   "name": "python",
   "nbconvert_exporter": "python",
   "pygments_lexer": "ipython3",
   "version": "3.9.12"
  }
 },
 "nbformat": 4,
 "nbformat_minor": 4
}
