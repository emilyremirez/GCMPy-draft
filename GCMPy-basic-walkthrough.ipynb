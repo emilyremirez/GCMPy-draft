{
 "cells": [
  {
   "cell_type": "code",
   "execution_count": 1,
   "metadata": {},
   "outputs": [],
   "source": [
    "import GCMPy as gp\n",
    "import math\n",
    "import random\n",
    "import matplotlib.pyplot as plt\n",
    "#%matplotlib inline\n",
    "import numpy as np\n",
    "import pandas as pd\n",
    "from pandas import DataFrame\n",
    "from scipy.optimize import minimize\n",
    "import seaborn as sns\n",
    "sns.set(style='ticks', context='paper')\n",
    "colors=[\"#e3c934\",\"#68c4bf\",\"#c51000\",\"#287271\"]\n",
    "sns.set_palette(colors)"
   ]
  },
  {
   "cell_type": "markdown",
   "metadata": {},
   "source": [
    "## Import Peterson & Barney 1952 as pb52, convert to Bark"
   ]
  },
  {
   "cell_type": "code",
   "execution_count": 2,
   "metadata": {},
   "outputs": [
    {
     "data": {
      "text/html": [
       "<div>\n",
       "<style scoped>\n",
       "    .dataframe tbody tr th:only-of-type {\n",
       "        vertical-align: middle;\n",
       "    }\n",
       "\n",
       "    .dataframe tbody tr th {\n",
       "        vertical-align: top;\n",
       "    }\n",
       "\n",
       "    .dataframe thead th {\n",
       "        text-align: right;\n",
       "    }\n",
       "</style>\n",
       "<table border=\"1\" class=\"dataframe\">\n",
       "  <thead>\n",
       "    <tr style=\"text-align: right;\">\n",
       "      <th></th>\n",
       "      <th>type</th>\n",
       "      <th>gender</th>\n",
       "      <th>speaker</th>\n",
       "      <th>vowel</th>\n",
       "      <th>repetition</th>\n",
       "      <th>F0</th>\n",
       "      <th>F1</th>\n",
       "      <th>F2</th>\n",
       "      <th>F3</th>\n",
       "      <th>z0</th>\n",
       "      <th>z1</th>\n",
       "      <th>z2</th>\n",
       "      <th>z3</th>\n",
       "    </tr>\n",
       "  </thead>\n",
       "  <tbody>\n",
       "    <tr>\n",
       "      <th>83</th>\n",
       "      <td>m</td>\n",
       "      <td>m</td>\n",
       "      <td>5</td>\n",
       "      <td>KIT</td>\n",
       "      <td>2</td>\n",
       "      <td>134</td>\n",
       "      <td>430</td>\n",
       "      <td>1880</td>\n",
       "      <td>2450</td>\n",
       "      <td>1.185635</td>\n",
       "      <td>4.293556</td>\n",
       "      <td>12.595729</td>\n",
       "      <td>14.364444</td>\n",
       "    </tr>\n",
       "    <tr>\n",
       "      <th>712</th>\n",
       "      <td>w</td>\n",
       "      <td>f</td>\n",
       "      <td>36</td>\n",
       "      <td>THOUGHT</td>\n",
       "      <td>1</td>\n",
       "      <td>203</td>\n",
       "      <td>610</td>\n",
       "      <td>900</td>\n",
       "      <td>2710</td>\n",
       "      <td>1.986149</td>\n",
       "      <td>5.833463</td>\n",
       "      <td>7.906713</td>\n",
       "      <td>15.027837</td>\n",
       "    </tr>\n",
       "    <tr>\n",
       "      <th>828</th>\n",
       "      <td>w</td>\n",
       "      <td>f</td>\n",
       "      <td>42</td>\n",
       "      <td>STRUT</td>\n",
       "      <td>1</td>\n",
       "      <td>250</td>\n",
       "      <td>750</td>\n",
       "      <td>1500</td>\n",
       "      <td>2750</td>\n",
       "      <td>2.502805</td>\n",
       "      <td>6.889742</td>\n",
       "      <td>11.092832</td>\n",
       "      <td>15.123397</td>\n",
       "    </tr>\n",
       "    <tr>\n",
       "      <th>39</th>\n",
       "      <td>m</td>\n",
       "      <td>m</td>\n",
       "      <td>2</td>\n",
       "      <td>NURSE</td>\n",
       "      <td>2</td>\n",
       "      <td>145</td>\n",
       "      <td>510</td>\n",
       "      <td>1130</td>\n",
       "      <td>1510</td>\n",
       "      <td>1.316770</td>\n",
       "      <td>5.005668</td>\n",
       "      <td>9.274304</td>\n",
       "      <td>11.136599</td>\n",
       "    </tr>\n",
       "    <tr>\n",
       "      <th>922</th>\n",
       "      <td>w</td>\n",
       "      <td>f</td>\n",
       "      <td>47</td>\n",
       "      <td>KIT</td>\n",
       "      <td>1</td>\n",
       "      <td>297</td>\n",
       "      <td>480</td>\n",
       "      <td>2670</td>\n",
       "      <td>3260</td>\n",
       "      <td>2.997944</td>\n",
       "      <td>4.744098</td>\n",
       "      <td>14.930626</td>\n",
       "      <td>16.213410</td>\n",
       "    </tr>\n",
       "  </tbody>\n",
       "</table>\n",
       "</div>"
      ],
      "text/plain": [
       "    type gender  speaker    vowel  repetition   F0   F1    F2    F3        z0  \\\n",
       "83     m      m        5      KIT           2  134  430  1880  2450  1.185635   \n",
       "712    w      f       36  THOUGHT           1  203  610   900  2710  1.986149   \n",
       "828    w      f       42    STRUT           1  250  750  1500  2750  2.502805   \n",
       "39     m      m        2    NURSE           2  145  510  1130  1510  1.316770   \n",
       "922    w      f       47      KIT           1  297  480  2670  3260  2.997944   \n",
       "\n",
       "           z1         z2         z3  \n",
       "83   4.293556  12.595729  14.364444  \n",
       "712  5.833463   7.906713  15.027837  \n",
       "828  6.889742  11.092832  15.123397  \n",
       "39   5.005668   9.274304  11.136599  \n",
       "922  4.744098  14.930626  16.213410  "
      ]
     },
     "execution_count": 2,
     "metadata": {},
     "output_type": "execute_result"
    }
   ],
   "source": [
    "pb52=pd.read_csv('pb52.csv')\n",
    "pbbark = gp.HzToBark(pb52,[\"F0\",\"F1\",\"F2\",\"F3\"])\n",
    "pbbark.sample(5)"
   ]
  },
  {
   "cell_type": "markdown",
   "metadata": {},
   "source": [
    "## Set some parameters"
   ]
  },
  {
   "cell_type": "code",
   "execution_count": 3,
   "metadata": {},
   "outputs": [],
   "source": [
    "# set c, the sensitivity of exemplar cloud\n",
    "cval=5\n",
    "\n",
    "# set dimesnsions m as keys, \n",
    "    ## set weight of each dimension w_m as values\n",
    "dimsvals={'z0':1,'z1':2.953,'z2':.924,'z3':3.420}\n",
    "\n",
    "# set categories to be considered as items in a list\n",
    "catslist=['vowel','type']\n",
    "\n",
    "# Get a balanced test set, 50 obs per vowel\n",
    "test = gp.gettestset(pbbark,'vowel',50)"
   ]
  },
  {
   "cell_type": "markdown",
   "metadata": {},
   "source": [
    "## Categorize test set"
   ]
  },
  {
   "cell_type": "code",
   "execution_count": 4,
   "metadata": {},
   "outputs": [],
   "source": [
    "choices = gp.multicat(test,pbbark,catslist,dimsvals,cval,exclude_self=True,alsoexclude=None, N=1, runnerup=False)"
   ]
  },
  {
   "cell_type": "markdown",
   "metadata": {},
   "source": [
    "## Check accuracy"
   ]
  },
  {
   "cell_type": "code",
   "execution_count": 5,
   "metadata": {},
   "outputs": [],
   "source": [
    "acc = gp.checkaccuracy(choices,catslist)"
   ]
  },
  {
   "cell_type": "markdown",
   "metadata": {},
   "source": [
    "### vowel"
   ]
  },
  {
   "cell_type": "code",
   "execution_count": 6,
   "metadata": {},
   "outputs": [
    {
     "data": {
      "image/png": "[encoded data removed]",
      "text/plain": [
       "<Figure size 432x288 with 1 Axes>"
      ]
     },
     "metadata": {},
     "output_type": "display_data"
    },
    {
     "data": {
      "text/plain": [
       "<AxesSubplot:xlabel='vowel', ylabel='Proportion accurate of 500 trials'>"
      ]
     },
     "execution_count": 6,
     "metadata": {},
     "output_type": "execute_result"
    }
   ],
   "source": [
    "gp.accplot(acc,'vowel')"
   ]
  },
  {
   "cell_type": "code",
   "execution_count": 7,
   "metadata": {},
   "outputs": [
    {
     "name": "stdout",
     "output_type": "stream",
     "text": [
      "overall accuracy: 0.812\n"
     ]
    }
   ],
   "source": [
    "print(\"overall accuracy: \" + str(gp.overallacc(acc,'vowel')))"
   ]
  },
  {
   "cell_type": "code",
   "execution_count": 8,
   "metadata": {},
   "outputs": [
    {
     "data": {
      "text/html": [
       "<div>\n",
       "<style scoped>\n",
       "    .dataframe tbody tr th:only-of-type {\n",
       "        vertical-align: middle;\n",
       "    }\n",
       "\n",
       "    .dataframe tbody tr th {\n",
       "        vertical-align: top;\n",
       "    }\n",
       "\n",
       "    .dataframe thead th {\n",
       "        text-align: right;\n",
       "    }\n",
       "</style>\n",
       "<table border=\"1\" class=\"dataframe\">\n",
       "  <thead>\n",
       "    <tr style=\"text-align: right;\">\n",
       "      <th></th>\n",
       "      <th>vowel</th>\n",
       "      <th>propcorr</th>\n",
       "    </tr>\n",
       "  </thead>\n",
       "  <tbody>\n",
       "    <tr>\n",
       "      <th>0</th>\n",
       "      <td>DRESS</td>\n",
       "      <td>0.72</td>\n",
       "    </tr>\n",
       "    <tr>\n",
       "      <th>1</th>\n",
       "      <td>FLEECE</td>\n",
       "      <td>0.98</td>\n",
       "    </tr>\n",
       "    <tr>\n",
       "      <th>2</th>\n",
       "      <td>FOOT</td>\n",
       "      <td>0.78</td>\n",
       "    </tr>\n",
       "    <tr>\n",
       "      <th>3</th>\n",
       "      <td>GOOSE</td>\n",
       "      <td>0.76</td>\n",
       "    </tr>\n",
       "    <tr>\n",
       "      <th>4</th>\n",
       "      <td>KIT</td>\n",
       "      <td>0.82</td>\n",
       "    </tr>\n",
       "    <tr>\n",
       "      <th>5</th>\n",
       "      <td>NURSE</td>\n",
       "      <td>0.86</td>\n",
       "    </tr>\n",
       "    <tr>\n",
       "      <th>6</th>\n",
       "      <td>PALM</td>\n",
       "      <td>0.76</td>\n",
       "    </tr>\n",
       "    <tr>\n",
       "      <th>7</th>\n",
       "      <td>STRUT</td>\n",
       "      <td>0.78</td>\n",
       "    </tr>\n",
       "    <tr>\n",
       "      <th>8</th>\n",
       "      <td>THOUGHT</td>\n",
       "      <td>0.76</td>\n",
       "    </tr>\n",
       "    <tr>\n",
       "      <th>9</th>\n",
       "      <td>TRAP</td>\n",
       "      <td>0.90</td>\n",
       "    </tr>\n",
       "  </tbody>\n",
       "</table>\n",
       "</div>"
      ],
      "text/plain": [
       "     vowel  propcorr\n",
       "0    DRESS      0.72\n",
       "1   FLEECE      0.98\n",
       "2     FOOT      0.78\n",
       "3    GOOSE      0.76\n",
       "4      KIT      0.82\n",
       "5    NURSE      0.86\n",
       "6     PALM      0.76\n",
       "7    STRUT      0.78\n",
       "8  THOUGHT      0.76\n",
       "9     TRAP      0.90"
      ]
     },
     "execution_count": 8,
     "metadata": {},
     "output_type": "execute_result"
    }
   ],
   "source": [
    "gp.propcorr(acc,'vowel')"
   ]
  },
  {
   "cell_type": "markdown",
   "metadata": {},
   "source": [
    "### Speaker type"
   ]
  },
  {
   "cell_type": "code",
   "execution_count": 9,
   "metadata": {},
   "outputs": [
    {
     "data": {
      "image/png": "[encoded data removed]",
      "text/plain": [
       "<Figure size 432x288 with 1 Axes>"
      ]
     },
     "metadata": {},
     "output_type": "display_data"
    },
    {
     "data": {
      "text/plain": [
       "<AxesSubplot:xlabel='type', ylabel='Proportion accurate of 500 trials'>"
      ]
     },
     "execution_count": 9,
     "metadata": {},
     "output_type": "execute_result"
    }
   ],
   "source": [
    "gp.accplot(acc,'type')"
   ]
  },
  {
   "cell_type": "code",
   "execution_count": 10,
   "metadata": {},
   "outputs": [
    {
     "name": "stdout",
     "output_type": "stream",
     "text": [
      "overall accuracy: 0.812\n"
     ]
    }
   ],
   "source": [
    "print(\"overall accuracy: \" + str(gp.overallacc(acc,'vowel')))"
   ]
  },
  {
   "cell_type": "code",
   "execution_count": 11,
   "metadata": {},
   "outputs": [
    {
     "data": {
      "text/html": [
       "<div>\n",
       "<style scoped>\n",
       "    .dataframe tbody tr th:only-of-type {\n",
       "        vertical-align: middle;\n",
       "    }\n",
       "\n",
       "    .dataframe tbody tr th {\n",
       "        vertical-align: top;\n",
       "    }\n",
       "\n",
       "    .dataframe thead th {\n",
       "        text-align: right;\n",
       "    }\n",
       "</style>\n",
       "<table border=\"1\" class=\"dataframe\">\n",
       "  <thead>\n",
       "    <tr style=\"text-align: right;\">\n",
       "      <th></th>\n",
       "      <th>type</th>\n",
       "      <th>propcorr</th>\n",
       "    </tr>\n",
       "  </thead>\n",
       "  <tbody>\n",
       "    <tr>\n",
       "      <th>0</th>\n",
       "      <td>c</td>\n",
       "      <td>0.600000</td>\n",
       "    </tr>\n",
       "    <tr>\n",
       "      <th>1</th>\n",
       "      <td>m</td>\n",
       "      <td>0.951754</td>\n",
       "    </tr>\n",
       "    <tr>\n",
       "      <th>2</th>\n",
       "      <td>w</td>\n",
       "      <td>0.730539</td>\n",
       "    </tr>\n",
       "  </tbody>\n",
       "</table>\n",
       "</div>"
      ],
      "text/plain": [
       "  type  propcorr\n",
       "0    c  0.600000\n",
       "1    m  0.951754\n",
       "2    w  0.730539"
      ]
     },
     "execution_count": 11,
     "metadata": {},
     "output_type": "execute_result"
    }
   ],
   "source": [
    "gp.propcorr(acc,'type')"
   ]
  },
  {
   "cell_type": "markdown",
   "metadata": {},
   "source": [
    "### Generate confusion matrices"
   ]
  },
  {
   "cell_type": "code",
   "execution_count": 12,
   "metadata": {},
   "outputs": [
    {
     "data": {
      "text/plain": [
       "{'vowel': vowelChoice  DRESS  FLEECE  FOOT  GOOSE   KIT  NURSE  PALM  STRUT  THOUGHT  \\\n",
       " DRESS         0.72    0.00  0.00   0.00  0.24   0.02  0.00   0.00     0.00   \n",
       " FLEECE        0.00    0.98  0.00   0.00  0.02   0.00  0.00   0.00     0.00   \n",
       " FOOT          0.00    0.00  0.78   0.12  0.00   0.02  0.00   0.04     0.04   \n",
       " GOOSE         0.00    0.00  0.22   0.76  0.02   0.00  0.00   0.00     0.00   \n",
       " KIT           0.10    0.08  0.00   0.00  0.82   0.00  0.00   0.00     0.00   \n",
       " NURSE         0.08    0.00  0.00   0.00  0.02   0.86  0.00   0.00     0.00   \n",
       " PALM          0.00    0.00  0.00   0.00  0.00   0.00  0.76   0.20     0.02   \n",
       " STRUT         0.00    0.00  0.00   0.00  0.00   0.02  0.14   0.78     0.04   \n",
       " THOUGHT       0.00    0.00  0.06   0.04  0.00   0.02  0.12   0.00     0.76   \n",
       " TRAP          0.08    0.00  0.00   0.00  0.00   0.02  0.00   0.00     0.00   \n",
       " \n",
       " vowelChoice  TRAP  \n",
       " DRESS        0.02  \n",
       " FLEECE       0.00  \n",
       " FOOT         0.00  \n",
       " GOOSE        0.00  \n",
       " KIT          0.00  \n",
       " NURSE        0.04  \n",
       " PALM         0.02  \n",
       " STRUT        0.02  \n",
       " THOUGHT      0.00  \n",
       " TRAP         0.90  ,\n",
       " 'type': typeChoice    c     m     w\n",
       " c           0.6  0.06  0.34\n",
       " m           0.0  0.95  0.05\n",
       " w           0.0  0.27  0.73}"
      ]
     },
     "execution_count": 12,
     "metadata": {},
     "output_type": "execute_result"
    }
   ],
   "source": [
    "gp.confusion(choices,catslist)"
   ]
  },
  {
   "cell_type": "markdown",
   "metadata": {},
   "source": [
    "## Let's break down what happens in multicat\n",
    "\n",
    "1. Exclude any exemplars you don't want to compate the stimulus/test to\n",
    "2. Add activation (N=1) to each exemplar\n",
    "3. Calculate activation\n",
    "4. Calculate the probability of the stimulus being categorized as each label within the category \n",
    "5. Choose the label with the highest category\n",
    "6. Check accuracy of choices"
   ]
  },
  {
   "cell_type": "code",
   "execution_count": 44,
   "metadata": {
    "scrolled": true
   },
   "outputs": [],
   "source": [
    "# Choose test stimulus\n",
    "test = pbbark.sample() \n",
    "\n",
    "# 1) Exclude that exemplar from the exemplar cloud\n",
    "exemplars=gp.exclude(pbbark,test,exclude_self=True)\n",
    "\n",
    "# 2) Add base activation\n",
    "exemplars = gp.reset_N(exemplars)"
   ]
  },
  {
   "cell_type": "code",
   "execution_count": 45,
   "metadata": {},
   "outputs": [
    {
     "name": "stdout",
     "output_type": "stream",
     "text": [
      "Test:\n",
      "    type gender  speaker vowel  repetition   F0   F1    F2    F3        z0  \\\n",
      "470    m      m       24  PALM           1  140  760  1260  2120  1.257333   \n",
      "\n",
      "           z1       z2         z3  \n",
      "470  6.961029  9.96087  13.400686  \n",
      "\n",
      "\n",
      "3 exemplars:\n",
      "     type gender  speaker  vowel  repetition     F0     F1      F2      F3  \\\n",
      "1191    w      f     60.0   PALM         2.0  210.0  920.0  1470.0  2690.0   \n",
      "1404    c      m     71.0  DRESS         1.0  215.0  580.0  2650.0  3550.0   \n",
      "844     w      f     43.0  DRESS         1.0  238.0  760.0  2380.0  3205.0   \n",
      "\n",
      "            z0        z1         z2         z3  N  \n",
      "1191  2.064516  8.034306  10.960000  14.979441  1  \n",
      "1404  2.120184  5.591969  14.881388  16.743230  1  \n",
      "844   2.372994  6.961029  14.172258  16.106215  1  \n",
      "\n",
      "\n",
      "Is test contained within exemplars?\n",
      "      type  gender  speaker  vowel  repetition     F0     F1     F2     F3  \\\n",
      "470  False   False    False  False       False  False  False  False  False   \n",
      "\n",
      "        z0     z1     z2     z3  \n",
      "470  False  False  False  False  \n"
     ]
    }
   ],
   "source": [
    "# view the test stimulus, 3 random exemplars\n",
    "# and verify that the test stimulus has been removed from the cloud\n",
    "print('Test:')\n",
    "print(test)\n",
    "print()\n",
    "print()\n",
    "\n",
    "print('3 exemplars:')\n",
    "print(exemplars.sample(3))\n",
    "print()\n",
    "print()\n",
    "\n",
    "print('Is test contained within exemplars?')\n",
    "print(test.isin(exemplars))"
   ]
  },
  {
   "cell_type": "code",
   "execution_count": 46,
   "metadata": {},
   "outputs": [
    {
     "data": {
      "text/plain": [
       "<AxesSubplot:xlabel='z2', ylabel='z1'>"
      ]
     },
     "execution_count": 46,
     "metadata": {},
     "output_type": "execute_result"
    },
    {
     "data": {
      "image/png": "[encoded data removed]",
      "text/plain": [
       "<Figure size 432x288 with 1 Axes>"
      ]
     },
     "metadata": {},
     "output_type": "display_data"
    }
   ],
   "source": [
    "# 3) Calculate activation\n",
    "activation = gp.activation(test,exemplars,dimsvals,cval)\n",
    "\n",
    "# View activation of exemplars\n",
    "actv = gp.getactiv(activation,'z2','z1','vowel')\n",
    "gp.activplot(actv,'z2','z1','vowel',test)"
   ]
  },
  {
   "cell_type": "code",
   "execution_count": 47,
   "metadata": {},
   "outputs": [
    {
     "data": {
      "text/plain": [
       "{'vowel':      vowel  probability\n",
       " 0    DRESS     0.045703\n",
       " 1   FLEECE     0.000768\n",
       " 2     FOOT     0.072997\n",
       " 3    GOOSE     0.023882\n",
       " 4      KIT     0.011166\n",
       " 5    NURSE     0.127788\n",
       " 6     PALM     0.244715\n",
       " 7    STRUT     0.223218\n",
       " 8  THOUGHT     0.111068\n",
       " 9     TRAP     0.138696,\n",
       " 'type':   type  probability\n",
       " 0    c     0.038821\n",
       " 1    m     0.793519\n",
       " 2    w     0.167660}"
      ]
     },
     "execution_count": 47,
     "metadata": {},
     "output_type": "execute_result"
    }
   ],
   "source": [
    "# 4) calculate probabilities of labels\n",
    "\n",
    "pr = gp.probs(activation,catslist)\n",
    "pr"
   ]
  },
  {
   "cell_type": "code",
   "execution_count": 48,
   "metadata": {},
   "outputs": [
    {
     "data": {
      "text/html": [
       "<div>\n",
       "<style scoped>\n",
       "    .dataframe tbody tr th:only-of-type {\n",
       "        vertical-align: middle;\n",
       "    }\n",
       "\n",
       "    .dataframe tbody tr th {\n",
       "        vertical-align: top;\n",
       "    }\n",
       "\n",
       "    .dataframe thead th {\n",
       "        text-align: right;\n",
       "    }\n",
       "</style>\n",
       "<table border=\"1\" class=\"dataframe\">\n",
       "  <thead>\n",
       "    <tr style=\"text-align: right;\">\n",
       "      <th></th>\n",
       "      <th>type</th>\n",
       "      <th>gender</th>\n",
       "      <th>speaker</th>\n",
       "      <th>vowel</th>\n",
       "      <th>repetition</th>\n",
       "      <th>F0</th>\n",
       "      <th>F1</th>\n",
       "      <th>F2</th>\n",
       "      <th>F3</th>\n",
       "      <th>z0</th>\n",
       "      <th>...</th>\n",
       "      <th>z2</th>\n",
       "      <th>z3</th>\n",
       "      <th>vowelChoice</th>\n",
       "      <th>vowelProb</th>\n",
       "      <th>vowelChoice2</th>\n",
       "      <th>vowelChoice2Prob</th>\n",
       "      <th>typeChoice</th>\n",
       "      <th>typeProb</th>\n",
       "      <th>typeChoice2</th>\n",
       "      <th>typeChoice2Prob</th>\n",
       "    </tr>\n",
       "  </thead>\n",
       "  <tbody>\n",
       "    <tr>\n",
       "      <th>470</th>\n",
       "      <td>m</td>\n",
       "      <td>m</td>\n",
       "      <td>24</td>\n",
       "      <td>PALM</td>\n",
       "      <td>1</td>\n",
       "      <td>140</td>\n",
       "      <td>760</td>\n",
       "      <td>1260</td>\n",
       "      <td>2120</td>\n",
       "      <td>1.257333</td>\n",
       "      <td>...</td>\n",
       "      <td>9.96087</td>\n",
       "      <td>13.400686</td>\n",
       "      <td>PALM</td>\n",
       "      <td>0.244715</td>\n",
       "      <td>STRUT</td>\n",
       "      <td>0.223218</td>\n",
       "      <td>m</td>\n",
       "      <td>0.793519</td>\n",
       "      <td>w</td>\n",
       "      <td>0.16766</td>\n",
       "    </tr>\n",
       "  </tbody>\n",
       "</table>\n",
       "<p>1 rows × 21 columns</p>\n",
       "</div>"
      ],
      "text/plain": [
       "    type gender  speaker vowel  repetition   F0   F1    F2    F3        z0  \\\n",
       "470    m      m       24  PALM           1  140  760  1260  2120  1.257333   \n",
       "\n",
       "     ...       z2         z3  vowelChoice vowelProb  vowelChoice2  \\\n",
       "470  ...  9.96087  13.400686         PALM  0.244715         STRUT   \n",
       "\n",
       "    vowelChoice2Prob  typeChoice  typeProb  typeChoice2 typeChoice2Prob  \n",
       "470         0.223218           m  0.793519            w         0.16766  \n",
       "\n",
       "[1 rows x 21 columns]"
      ]
     },
     "execution_count": 48,
     "metadata": {},
     "output_type": "execute_result"
    }
   ],
   "source": [
    "# 5) Choose labels\n",
    "choices_2 = gp.choose(pr,test,catslist,runnerup=True)\n",
    "choices_2"
   ]
  },
  {
   "cell_type": "code",
   "execution_count": 49,
   "metadata": {},
   "outputs": [
    {
     "name": "stdout",
     "output_type": "stream",
     "text": [
      "Vowel\n",
      "1st choice: PALM with probability 0.24471491412760343\n",
      "2nd choice: STRUT with probability 0.22321757424111824\n",
      "\n",
      "Speaker type\n",
      "1st choice: m with probability 0.7935188159519861\n",
      "2nd choice: w with probability 0.16765998967076617\n"
     ]
    }
   ],
   "source": [
    "print('Vowel')\n",
    "print('1st choice: ' + choices_2.iloc[0]['vowelChoice'] + ' with probability ' + str(choices_2.iloc[0]['vowelProb']))\n",
    "print('2nd choice: ' + choices_2.iloc[0]['vowelChoice2'] + ' with probability ' + str(choices_2.iloc[0]['vowelChoice2Prob']))\n",
    "\n",
    "print()\n",
    "print('Speaker type')\n",
    "print('1st choice: ' + choices_2.iloc[0]['typeChoice'] + ' with probability ' + str(choices_2.iloc[0]['typeProb']))\n",
    "print('2nd choice: ' + choices_2.iloc[0]['typeChoice2'] + ' with probability ' + str(choices_2.iloc[0]['typeChoice2Prob']))"
   ]
  },
  {
   "cell_type": "code",
   "execution_count": 53,
   "metadata": {},
   "outputs": [],
   "source": [
    "# 6) Check accuracy\n",
    "accu = gp.checkaccuracy(choices_2,catslist)"
   ]
  },
  {
   "cell_type": "code",
   "execution_count": 59,
   "metadata": {},
   "outputs": [
    {
     "name": "stdout",
     "output_type": "stream",
     "text": [
      "Was vowel categorized accurately?          y\n",
      "Was speaker type categorized accurately?   y\n"
     ]
    }
   ],
   "source": [
    "print('Was vowel categorized accurately?          ' + accu.iloc[0]['vowelAcc'])\n",
    "print('Was speaker type categorized accurately?   ' + accu.iloc[0]['typeAcc'])"
   ]
  },
  {
   "cell_type": "code",
   "execution_count": null,
   "metadata": {},
   "outputs": [],
   "source": []
  }
 ],
 "metadata": {
  "history": [
   {
    "code": "import GCMPy as gp",
    "id": "aa63e8499802435aa2fe51b2d5ae9054",
    "idx": 0,
    "time": "2021-01-23T01:52:13.405Z",
    "type": "execution"
   },
   {
    "id": "aa63e8499802435aa2fe51b2d5ae9054",
    "time": "2021-01-23T01:52:13.477Z",
    "type": "completion"
   },
   {
    "code": "import GCMPy.py as gp",
    "id": "aa63e8499802435aa2fe51b2d5ae9054",
    "idx": 0,
    "time": "2021-01-23T01:52:20.251Z",
    "type": "execution"
   },
   {
    "id": "aa63e8499802435aa2fe51b2d5ae9054",
    "time": "2021-01-23T01:52:20.315Z",
    "type": "completion"
   },
   {
    "code": "import GCMPy",
    "id": "aa63e8499802435aa2fe51b2d5ae9054",
    "idx": 0,
    "time": "2021-01-23T01:52:47.571Z",
    "type": "execution"
   },
   {
    "id": "aa63e8499802435aa2fe51b2d5ae9054",
    "time": "2021-01-23T01:52:47.639Z",
    "type": "completion"
   },
   {
    "code": "import GCMPy",
    "id": "aa63e8499802435aa2fe51b2d5ae9054",
    "idx": 0,
    "time": "2021-01-23T01:53:38.152Z",
    "type": "execution"
   },
   {
    "id": "aa63e8499802435aa2fe51b2d5ae9054",
    "time": "2021-01-23T01:53:38.239Z",
    "type": "completion"
   },
   {
    "code": "import GCMPy",
    "id": "aa63e8499802435aa2fe51b2d5ae9054",
    "idx": 0,
    "time": "2021-01-23T01:53:49.096Z",
    "type": "execution"
   },
   {
    "id": "aa63e8499802435aa2fe51b2d5ae9054",
    "time": "2021-01-23T01:53:49.173Z",
    "type": "completion"
   },
   {
    "code": "import GCMPy",
    "id": "aa63e8499802435aa2fe51b2d5ae9054",
    "idx": 0,
    "time": "2021-01-23T01:54:41.263Z",
    "type": "execution"
   },
   {
    "id": "aa63e8499802435aa2fe51b2d5ae9054",
    "time": "2021-01-23T01:54:41.336Z",
    "type": "completion"
   },
   {
    "code": "import GCMPy",
    "id": "aa63e8499802435aa2fe51b2d5ae9054",
    "idx": 0,
    "time": "2021-01-23T01:55:31.840Z",
    "type": "execution"
   },
   {
    "id": "aa63e8499802435aa2fe51b2d5ae9054",
    "time": "2021-01-23T01:55:35.579Z",
    "type": "completion"
   },
   {
    "code": "import GCMPy as gp",
    "id": "aa63e8499802435aa2fe51b2d5ae9054",
    "idx": 0,
    "time": "2021-01-23T01:55:38.567Z",
    "type": "execution"
   },
   {
    "id": "aa63e8499802435aa2fe51b2d5ae9054",
    "time": "2021-01-23T01:55:38.634Z",
    "type": "completion"
   },
   {
    "code": "pb52=pd.read_csv('pb52.csv')\npbbark = barkbark(pb52,[\"F0\",\"F1\",\"F2\",\"F3\"])",
    "id": "b0dd14c32ee9438b8ac4f9391972b9d0",
    "idx": 2,
    "time": "2021-01-23T01:56:53.550Z",
    "type": "execution"
   },
   {
    "id": "b0dd14c32ee9438b8ac4f9391972b9d0",
    "time": "2021-01-23T01:56:53.739Z",
    "type": "completion"
   },
   {
    "code": "import GCMPy as gp\nimport math\nimport random\nimport matplotlib.pyplot as plt\n#%matplotlib inline\nimport numpy as np\nimport pandas as pd\nfrom pandas import DataFrame\nfrom scipy.optimize import minimize\nimport seaborn as sns\nsns.set(style='ticks', context='paper')\ncolors=[\"#e3c934\",\"#68c4bf\",\"#c51000\",\"#287271\"]\nsns.set_palette(colors)",
    "id": "aa63e8499802435aa2fe51b2d5ae9054",
    "idx": 0,
    "time": "2021-01-23T01:57:15.395Z",
    "type": "execution"
   },
   {
    "id": "aa63e8499802435aa2fe51b2d5ae9054",
    "time": "2021-01-23T01:57:15.457Z",
    "type": "completion"
   },
   {
    "code": "pb52=pd.read_csv('pb52.csv')\npbbark = barkbark(pb52,[\"F0\",\"F1\",\"F2\",\"F3\"])",
    "id": "b0dd14c32ee9438b8ac4f9391972b9d0",
    "idx": 2,
    "time": "2021-01-23T01:57:16.833Z",
    "type": "execution"
   },
   {
    "id": "b0dd14c32ee9438b8ac4f9391972b9d0",
    "time": "2021-01-23T01:57:16.911Z",
    "type": "completion"
   },
   {
    "code": "pb52=pd.read_csv('pb52.csv')\npbbark = HzToBark(pb52,[\"F0\",\"F1\",\"F2\",\"F3\"])",
    "id": "b0dd14c32ee9438b8ac4f9391972b9d0",
    "idx": 2,
    "time": "2021-01-23T01:57:34.826Z",
    "type": "execution"
   },
   {
    "id": "b0dd14c32ee9438b8ac4f9391972b9d0",
    "time": "2021-01-23T01:57:34.897Z",
    "type": "completion"
   },
   {
    "code": "pb52=pd.read_csv('pb52.csv')\npbbark = gp.HzToBark(pb52,[\"F0\",\"F1\",\"F2\",\"F3\"])",
    "id": "b0dd14c32ee9438b8ac4f9391972b9d0",
    "idx": 2,
    "time": "2021-01-23T01:57:42.245Z",
    "type": "execution"
   },
   {
    "id": "b0dd14c32ee9438b8ac4f9391972b9d0",
    "time": "2021-01-23T01:57:42.332Z",
    "type": "completion"
   },
   {
    "code": "pb52=pd.read_csv('pb52.csv')\npbbark = gp.HzToBark(pb52,[\"F0\",\"F1\",\"F2\",\"F3\"])\npbbark.head()",
    "id": "b0dd14c32ee9438b8ac4f9391972b9d0",
    "idx": 2,
    "time": "2021-01-23T01:57:51.824Z",
    "type": "execution"
   },
   {
    "id": "b0dd14c32ee9438b8ac4f9391972b9d0",
    "time": "2021-01-23T01:57:51.942Z",
    "type": "completion"
   },
   {
    "code": "pb52=pd.read_csv('pb52.csv')\npbbark = gp.HzToBark(pb52,[\"F0\",\"F1\",\"F2\",\"F3\"])\npbbark.sample(5)",
    "id": "b0dd14c32ee9438b8ac4f9391972b9d0",
    "idx": 2,
    "time": "2021-01-23T01:58:00.597Z",
    "type": "execution"
   },
   {
    "id": "b0dd14c32ee9438b8ac4f9391972b9d0",
    "time": "2021-01-23T01:58:00.695Z",
    "type": "completion"
   },
   {
    "code": "# set c, the sensitivity of exemplar cloud\ncval=5\n\n# set dimesnsions m as keys, \n    ## set weight of each dimension w_m as values\ndimsvals={'z0':1,'z1':2.953,'z2':.924,'z3':3.420}\n\n# set categories to be considered as items in a list\ncatslist=['vowel','type']\n\n# Get a balanced test set, 5 obs per vowel\ntest = gp.gettestset(pbbark,'vowel',5)\n",
    "id": "6ed8eb33a8414e21a6c573c609c7eea5",
    "idx": 4,
    "time": "2021-01-23T02:02:35.956Z",
    "type": "execution"
   },
   {
    "id": "6ed8eb33a8414e21a6c573c609c7eea5",
    "time": "2021-01-23T02:02:36.046Z",
    "type": "completion"
   },
   {
    "code": "test",
    "id": "e19406c68cdb4fc1883a86c2766e6de5",
    "idx": 5,
    "time": "2021-01-23T02:02:39.137Z",
    "type": "execution"
   },
   {
    "id": "e19406c68cdb4fc1883a86c2766e6de5",
    "time": "2021-01-23T02:02:39.280Z",
    "type": "completion"
   },
   {
    "code": "choices = gp.multicat(test,pbbark,catslist,dimsvals,cval,exclude_self=True,alsoexclude=None, N=1, runnerup=False)",
    "id": "191b4f91c6de40d082ad138571721155",
    "idx": 6,
    "time": "2021-01-23T02:04:42.359Z",
    "type": "execution"
   },
   {
    "id": "191b4f91c6de40d082ad138571721155",
    "time": "2021-01-23T02:04:43.813Z",
    "type": "completion"
   },
   {
    "code": "choices.head()",
    "id": "c9e3d3f4ddfc4e8b9eee86a0a420ae47",
    "idx": 7,
    "time": "2021-01-23T02:04:48.808Z",
    "type": "execution"
   },
   {
    "id": "c9e3d3f4ddfc4e8b9eee86a0a420ae47",
    "time": "2021-01-23T02:04:48.922Z",
    "type": "completion"
   },
   {
    "code": "acc = gp.checkaccuracy(choices,catslist)",
    "id": "2fd3af9c60cf4631a23542194a0379d4",
    "idx": 8,
    "time": "2021-01-23T02:07:40.936Z",
    "type": "execution"
   },
   {
    "id": "2fd3af9c60cf4631a23542194a0379d4",
    "time": "2021-01-23T02:07:41.015Z",
    "type": "completion"
   },
   {
    "code": "acc",
    "id": "7923978dd1224bb18a116542bea56552",
    "idx": 9,
    "time": "2021-01-23T02:07:43.005Z",
    "type": "execution"
   },
   {
    "id": "7923978dd1224bb18a116542bea56552",
    "time": "2021-01-23T02:07:43.282Z",
    "type": "completion"
   },
   {
    "code": "propcorr(acc,'vowel')",
    "id": "7923978dd1224bb18a116542bea56552",
    "idx": 9,
    "time": "2021-01-23T02:08:13.895Z",
    "type": "execution"
   },
   {
    "id": "7923978dd1224bb18a116542bea56552",
    "time": "2021-01-23T02:08:13.981Z",
    "type": "completion"
   },
   {
    "code": "gp.propcorr(acc,'vowel')",
    "id": "7923978dd1224bb18a116542bea56552",
    "idx": 9,
    "time": "2021-01-23T02:08:19.772Z",
    "type": "execution"
   },
   {
    "id": "7923978dd1224bb18a116542bea56552",
    "time": "2021-01-23T02:08:19.863Z",
    "type": "completion"
   },
   {
    "code": "gp.propcorr(acc,'type')",
    "id": "e6a866a6ada746f29a807eeb3a1a78ee",
    "idx": 10,
    "time": "2021-01-23T02:08:33.733Z",
    "type": "execution"
   },
   {
    "id": "e6a866a6ada746f29a807eeb3a1a78ee",
    "time": "2021-01-23T02:08:33.821Z",
    "type": "completion"
   },
   {
    "code": "gp.overallacc(acc,'vowel')",
    "id": "eba6140b1ed0445d8b586668b413f9e9",
    "idx": 10,
    "time": "2021-01-23T02:09:07.242Z",
    "type": "execution"
   },
   {
    "id": "eba6140b1ed0445d8b586668b413f9e9",
    "time": "2021-01-23T02:09:07.344Z",
    "type": "completion"
   },
   {
    "code": "gp.overallacc(acc,'type')",
    "id": "fb56ef5539ff496e9b040212743e0e0a",
    "idx": 12,
    "time": "2021-01-23T02:09:18.088Z",
    "type": "execution"
   },
   {
    "id": "fb56ef5539ff496e9b040212743e0e0a",
    "time": "2021-01-23T02:09:18.156Z",
    "type": "completion"
   },
   {
    "code": "gp.multiaccplot(choices,catslist)",
    "id": "4bee8a3bd6b844ab879841e2c5ce17d6",
    "idx": 9,
    "time": "2021-01-23T02:09:40.108Z",
    "type": "execution"
   },
   {
    "id": "4bee8a3bd6b844ab879841e2c5ce17d6",
    "time": "2021-01-23T02:09:40.189Z",
    "type": "completion"
   },
   {
    "code": "import GCMPy as gp\nimport math\nimport random\nimport matplotlib.pyplot as plt\n#%matplotlib inline\nimport numpy as np\nimport pandas as pd\nfrom pandas import DataFrame\nfrom scipy.optimize import minimize\nimport seaborn as sns\nsns.set(style='ticks', context='paper')\ncolors=[\"#e3c934\",\"#68c4bf\",\"#c51000\",\"#287271\"]\nsns.set_palette(colors)",
    "id": "aa63e8499802435aa2fe51b2d5ae9054",
    "idx": 0,
    "time": "2021-01-23T02:10:23.254Z",
    "type": "execution"
   },
   {
    "code": "pb52=pd.read_csv('pb52.csv')\npbbark = gp.HzToBark(pb52,[\"F0\",\"F1\",\"F2\",\"F3\"])\npbbark.sample(5)",
    "id": "b0dd14c32ee9438b8ac4f9391972b9d0",
    "idx": 2,
    "time": "2021-01-23T02:10:23.259Z",
    "type": "execution"
   },
   {
    "code": "# set c, the sensitivity of exemplar cloud\ncval=5\n\n# set dimesnsions m as keys, \n    ## set weight of each dimension w_m as values\ndimsvals={'z0':1,'z1':2.953,'z2':.924,'z3':3.420}\n\n# set categories to be considered as items in a list\ncatslist=['vowel','type']\n\n# Get a balanced test set, 5 obs per vowel\ntest = gp.gettestset(pbbark,'vowel',5)",
    "id": "6ed8eb33a8414e21a6c573c609c7eea5",
    "idx": 4,
    "time": "2021-01-23T02:10:23.261Z",
    "type": "execution"
   },
   {
    "code": "choices = gp.multicat(test,pbbark,catslist,dimsvals,cval,exclude_self=True,alsoexclude=None, N=1, runnerup=False)",
    "id": "191b4f91c6de40d082ad138571721155",
    "idx": 6,
    "time": "2021-01-23T02:10:23.262Z",
    "type": "execution"
   },
   {
    "code": "acc = gp.checkaccuracy(choices,catslist)",
    "id": "2fd3af9c60cf4631a23542194a0379d4",
    "idx": 8,
    "time": "2021-01-23T02:10:23.263Z",
    "type": "execution"
   },
   {
    "code": "gp.multiaccplot(choices,catslist)",
    "id": "4bee8a3bd6b844ab879841e2c5ce17d6",
    "idx": 9,
    "time": "2021-01-23T02:10:23.265Z",
    "type": "execution"
   },
   {
    "code": "gp.propcorr(acc,'vowel')",
    "id": "7923978dd1224bb18a116542bea56552",
    "idx": 10,
    "time": "2021-01-23T02:10:23.268Z",
    "type": "execution"
   },
   {
    "code": "gp.overallacc(acc,'vowel')",
    "id": "eba6140b1ed0445d8b586668b413f9e9",
    "idx": 11,
    "time": "2021-01-23T02:10:23.269Z",
    "type": "execution"
   },
   {
    "code": "gp.propcorr(acc,'type')",
    "id": "e6a866a6ada746f29a807eeb3a1a78ee",
    "idx": 12,
    "time": "2021-01-23T02:10:23.271Z",
    "type": "execution"
   },
   {
    "code": "gp.overallacc(acc,'type')",
    "id": "fb56ef5539ff496e9b040212743e0e0a",
    "idx": 13,
    "time": "2021-01-23T02:10:23.272Z",
    "type": "execution"
   },
   {
    "id": "aa63e8499802435aa2fe51b2d5ae9054",
    "time": "2021-01-23T02:10:24.315Z",
    "type": "completion"
   },
   {
    "id": "b0dd14c32ee9438b8ac4f9391972b9d0",
    "time": "2021-01-23T02:10:24.362Z",
    "type": "completion"
   },
   {
    "id": "6ed8eb33a8414e21a6c573c609c7eea5",
    "time": "2021-01-23T02:10:24.371Z",
    "type": "completion"
   },
   {
    "id": "191b4f91c6de40d082ad138571721155",
    "time": "2021-01-23T02:10:25.901Z",
    "type": "completion"
   },
   {
    "id": "2fd3af9c60cf4631a23542194a0379d4",
    "time": "2021-01-23T02:10:25.903Z",
    "type": "completion"
   },
   {
    "id": "4bee8a3bd6b844ab879841e2c5ce17d6",
    "time": "2021-01-23T02:10:25.958Z",
    "type": "completion"
   },
   {
    "id": "7923978dd1224bb18a116542bea56552",
    "time": "2021-01-23T02:10:25.960Z",
    "type": "completion"
   },
   {
    "id": "eba6140b1ed0445d8b586668b413f9e9",
    "time": "2021-01-23T02:10:25.961Z",
    "type": "completion"
   },
   {
    "id": "e6a866a6ada746f29a807eeb3a1a78ee",
    "time": "2021-01-23T02:10:25.962Z",
    "type": "completion"
   },
   {
    "id": "fb56ef5539ff496e9b040212743e0e0a",
    "time": "2021-01-23T02:10:25.979Z",
    "type": "completion"
   },
   {
    "code": "gp.accplot(acc,'vowel')",
    "id": "bff376f2bf1349868ef93ce214ccba81",
    "idx": 9,
    "time": "2021-01-23T02:13:54.143Z",
    "type": "execution"
   },
   {
    "id": "bff376f2bf1349868ef93ce214ccba81",
    "time": "2021-01-23T02:13:54.461Z",
    "type": "completion"
   },
   {
    "code": "acc = gp.checkaccuracy(choices,catslist)",
    "id": "2fd3af9c60cf4631a23542194a0379d4",
    "idx": 8,
    "time": "2021-01-23T02:14:10.815Z",
    "type": "execution"
   },
   {
    "code": "gp.accplot(acc,'vowel')",
    "id": "bff376f2bf1349868ef93ce214ccba81",
    "idx": 9,
    "time": "2021-01-23T02:14:10.818Z",
    "type": "execution"
   },
   {
    "code": "gp.propcorr(acc,'vowel')",
    "id": "7923978dd1224bb18a116542bea56552",
    "idx": 10,
    "time": "2021-01-23T02:14:10.819Z",
    "type": "execution"
   },
   {
    "code": "gp.overallacc(acc,'vowel')",
    "id": "eba6140b1ed0445d8b586668b413f9e9",
    "idx": 11,
    "time": "2021-01-23T02:14:10.821Z",
    "type": "execution"
   },
   {
    "code": "gp.accplot(acc,'type')",
    "id": "2dffb9e929da40c283b2bdcea7831e44",
    "idx": 12,
    "time": "2021-01-23T02:14:10.822Z",
    "type": "execution"
   },
   {
    "code": "gp.propcorr(acc,'type')",
    "id": "e6a866a6ada746f29a807eeb3a1a78ee",
    "idx": 13,
    "time": "2021-01-23T02:14:10.823Z",
    "type": "execution"
   },
   {
    "code": "gp.overallacc(acc,'type')",
    "id": "fb56ef5539ff496e9b040212743e0e0a",
    "idx": 14,
    "time": "2021-01-23T02:14:10.825Z",
    "type": "execution"
   },
   {
    "id": "2fd3af9c60cf4631a23542194a0379d4",
    "time": "2021-01-23T02:14:10.883Z",
    "type": "completion"
   },
   {
    "id": "bff376f2bf1349868ef93ce214ccba81",
    "time": "2021-01-23T02:14:11.137Z",
    "type": "completion"
   },
   {
    "id": "7923978dd1224bb18a116542bea56552",
    "time": "2021-01-23T02:14:11.142Z",
    "type": "completion"
   },
   {
    "id": "eba6140b1ed0445d8b586668b413f9e9",
    "time": "2021-01-23T02:14:11.158Z",
    "type": "completion"
   },
   {
    "id": "2dffb9e929da40c283b2bdcea7831e44",
    "time": "2021-01-23T02:14:11.233Z",
    "type": "completion"
   },
   {
    "id": "e6a866a6ada746f29a807eeb3a1a78ee",
    "time": "2021-01-23T02:14:11.242Z",
    "type": "completion"
   },
   {
    "id": "fb56ef5539ff496e9b040212743e0e0a",
    "time": "2021-01-23T02:14:11.257Z",
    "type": "completion"
   },
   {
    "code": "# set c, the sensitivity of exemplar cloud\ncval=5\n\n# set dimesnsions m as keys, \n    ## set weight of each dimension w_m as values\ndimsvals={'z0':1,'z1':2.953,'z2':.924,'z3':3.420}\n\n# set categories to be considered as items in a list\ncatslist=['vowel','type']\n\n# Get a balanced test set, 15 obs per vowel\ntest = gp.gettestset(pbbark,'vowel',15)",
    "id": "6ed8eb33a8414e21a6c573c609c7eea5",
    "idx": 4,
    "time": "2021-01-23T02:14:41.279Z",
    "type": "execution"
   },
   {
    "id": "6ed8eb33a8414e21a6c573c609c7eea5",
    "time": "2021-01-23T02:14:41.356Z",
    "type": "completion"
   },
   {
    "code": "choices = gp.multicat(test,pbbark,catslist,dimsvals,cval,exclude_self=True,alsoexclude=None, N=1, runnerup=False)",
    "id": "191b4f91c6de40d082ad138571721155",
    "idx": 6,
    "time": "2021-01-23T02:14:43.889Z",
    "type": "execution"
   },
   {
    "id": "191b4f91c6de40d082ad138571721155",
    "time": "2021-01-23T02:14:48.220Z",
    "type": "completion"
   },
   {
    "code": "acc = gp.checkaccuracy(choices,catslist)",
    "id": "2fd3af9c60cf4631a23542194a0379d4",
    "idx": 8,
    "time": "2021-01-23T02:14:49.776Z",
    "type": "execution"
   },
   {
    "id": "2fd3af9c60cf4631a23542194a0379d4",
    "time": "2021-01-23T02:14:49.854Z",
    "type": "completion"
   },
   {
    "code": "gp.accplot(acc,'vowel')",
    "id": "bff376f2bf1349868ef93ce214ccba81",
    "idx": 9,
    "time": "2021-01-23T02:14:50.837Z",
    "type": "execution"
   },
   {
    "id": "bff376f2bf1349868ef93ce214ccba81",
    "time": "2021-01-23T02:14:51.167Z",
    "type": "completion"
   },
   {
    "code": "gp.propcorr(acc,'vowel')",
    "id": "7923978dd1224bb18a116542bea56552",
    "idx": 10,
    "time": "2021-01-23T02:14:53.283Z",
    "type": "execution"
   },
   {
    "id": "7923978dd1224bb18a116542bea56552",
    "time": "2021-01-23T02:14:53.362Z",
    "type": "completion"
   },
   {
    "code": "gp.overallacc(acc,'vowel')",
    "id": "eba6140b1ed0445d8b586668b413f9e9",
    "idx": 11,
    "time": "2021-01-23T02:14:56.263Z",
    "type": "execution"
   },
   {
    "id": "eba6140b1ed0445d8b586668b413f9e9",
    "time": "2021-01-23T02:14:56.350Z",
    "type": "completion"
   },
   {
    "code": "gp.accplot(acc,'type')",
    "id": "2dffb9e929da40c283b2bdcea7831e44",
    "idx": 12,
    "time": "2021-01-23T02:14:57.998Z",
    "type": "execution"
   },
   {
    "id": "2dffb9e929da40c283b2bdcea7831e44",
    "time": "2021-01-23T02:14:58.239Z",
    "type": "completion"
   },
   {
    "code": "gp.propcorr(acc,'type')",
    "id": "e6a866a6ada746f29a807eeb3a1a78ee",
    "idx": 13,
    "time": "2021-01-23T02:14:59.256Z",
    "type": "execution"
   },
   {
    "id": "e6a866a6ada746f29a807eeb3a1a78ee",
    "time": "2021-01-23T02:14:59.329Z",
    "type": "completion"
   },
   {
    "code": "gp.overallacc(acc,'type')",
    "id": "fb56ef5539ff496e9b040212743e0e0a",
    "idx": 14,
    "time": "2021-01-23T02:15:02.337Z",
    "type": "execution"
   },
   {
    "id": "fb56ef5539ff496e9b040212743e0e0a",
    "time": "2021-01-23T02:15:02.411Z",
    "type": "completion"
   },
   {
    "code": "# set c, the sensitivity of exemplar cloud\ncval=5\n\n# set dimesnsions m as keys, \n    ## set weight of each dimension w_m as values\ndimsvals={'z0':1,'z1':2.953,'z2':.924,'z3':3.420}\n\n# set categories to be considered as items in a list\ncatslist=['vowel','type']\n\n# Get a balanced test set, 50 obs per vowel\ntest = gp.gettestset(pbbark,'vowel',50)",
    "id": "6ed8eb33a8414e21a6c573c609c7eea5",
    "idx": 4,
    "time": "2021-01-23T02:15:14.698Z",
    "type": "execution"
   },
   {
    "id": "6ed8eb33a8414e21a6c573c609c7eea5",
    "time": "2021-01-23T02:15:14.865Z",
    "type": "completion"
   },
   {
    "code": "choices = gp.multicat(test,pbbark,catslist,dimsvals,cval,exclude_self=True,alsoexclude=None, N=1, runnerup=False)",
    "id": "191b4f91c6de40d082ad138571721155",
    "idx": 6,
    "time": "2021-01-23T02:15:17.143Z",
    "type": "execution"
   },
   {
    "code": "acc = gp.checkaccuracy(choices,catslist)",
    "id": "2fd3af9c60cf4631a23542194a0379d4",
    "idx": 8,
    "time": "2021-01-23T02:15:18.583Z",
    "type": "execution"
   },
   {
    "code": "gp.accplot(acc,'vowel')",
    "id": "bff376f2bf1349868ef93ce214ccba81",
    "idx": 9,
    "time": "2021-01-23T02:15:19.287Z",
    "type": "execution"
   },
   {
    "code": "gp.propcorr(acc,'vowel')",
    "id": "7923978dd1224bb18a116542bea56552",
    "idx": 10,
    "time": "2021-01-23T02:15:19.833Z",
    "type": "execution"
   },
   {
    "code": "gp.overallacc(acc,'vowel')",
    "id": "eba6140b1ed0445d8b586668b413f9e9",
    "idx": 11,
    "time": "2021-01-23T02:15:20.354Z",
    "type": "execution"
   },
   {
    "code": "gp.accplot(acc,'type')",
    "id": "2dffb9e929da40c283b2bdcea7831e44",
    "idx": 12,
    "time": "2021-01-23T02:15:21.106Z",
    "type": "execution"
   },
   {
    "code": "gp.propcorr(acc,'type')",
    "id": "e6a866a6ada746f29a807eeb3a1a78ee",
    "idx": 13,
    "time": "2021-01-23T02:15:21.836Z",
    "type": "execution"
   },
   {
    "code": "gp.overallacc(acc,'type')",
    "id": "fb56ef5539ff496e9b040212743e0e0a",
    "idx": 14,
    "time": "2021-01-23T02:15:22.357Z",
    "type": "execution"
   },
   {
    "id": "191b4f91c6de40d082ad138571721155",
    "time": "2021-01-23T02:15:31.507Z",
    "type": "completion"
   },
   {
    "id": "2fd3af9c60cf4631a23542194a0379d4",
    "time": "2021-01-23T02:15:31.510Z",
    "type": "completion"
   },
   {
    "id": "bff376f2bf1349868ef93ce214ccba81",
    "time": "2021-01-23T02:15:31.602Z",
    "type": "completion"
   },
   {
    "id": "7923978dd1224bb18a116542bea56552",
    "time": "2021-01-23T02:15:31.608Z",
    "type": "completion"
   },
   {
    "id": "eba6140b1ed0445d8b586668b413f9e9",
    "time": "2021-01-23T02:15:31.610Z",
    "type": "completion"
   },
   {
    "id": "2dffb9e929da40c283b2bdcea7831e44",
    "time": "2021-01-23T02:15:31.719Z",
    "type": "completion"
   },
   {
    "id": "e6a866a6ada746f29a807eeb3a1a78ee",
    "time": "2021-01-23T02:15:31.742Z",
    "type": "completion"
   },
   {
    "id": "fb56ef5539ff496e9b040212743e0e0a",
    "time": "2021-01-23T02:15:31.763Z",
    "type": "completion"
   },
   {
    "code": "print(\"overall accuracy: \" + gp.overallacc(acc,'vowel'))",
    "id": "eba6140b1ed0445d8b586668b413f9e9",
    "idx": 12,
    "time": "2021-01-23T02:16:06.405Z",
    "type": "execution"
   },
   {
    "id": "eba6140b1ed0445d8b586668b413f9e9",
    "time": "2021-01-23T02:16:06.491Z",
    "type": "completion"
   },
   {
    "code": "print(\"overall accuracy: \" + str(gp.overallacc(acc,'vowel')))",
    "id": "eba6140b1ed0445d8b586668b413f9e9",
    "idx": 12,
    "time": "2021-01-23T02:16:17.817Z",
    "type": "execution"
   },
   {
    "id": "eba6140b1ed0445d8b586668b413f9e9",
    "time": "2021-01-23T02:16:17.888Z",
    "type": "completion"
   },
   {
    "code": "print(\"overall accuracy: \" + str(gp.overallacc(acc,'vowel')))",
    "id": "fb56ef5539ff496e9b040212743e0e0a",
    "idx": 15,
    "time": "2021-01-23T02:16:30.183Z",
    "type": "execution"
   },
   {
    "id": "fb56ef5539ff496e9b040212743e0e0a",
    "time": "2021-01-23T02:16:30.268Z",
    "type": "completion"
   },
   {
    "code": "gp.accplot(acc,'type')",
    "id": "2dffb9e929da40c283b2bdcea7831e44",
    "idx": 14,
    "time": "2021-01-23T02:16:58.680Z",
    "type": "execution"
   },
   {
    "id": "2dffb9e929da40c283b2bdcea7831e44",
    "time": "2021-01-23T02:16:58.987Z",
    "type": "completion"
   },
   {
    "code": "print(\"overall accuracy: \" + str(gp.overallacc(acc,'vowel')))",
    "id": "fb56ef5539ff496e9b040212743e0e0a",
    "idx": 15,
    "time": "2021-01-23T02:17:05.567Z",
    "type": "execution"
   },
   {
    "id": "fb56ef5539ff496e9b040212743e0e0a",
    "time": "2021-01-23T02:17:05.653Z",
    "type": "completion"
   },
   {
    "code": "gp.propcorr(acc,'type')",
    "id": "e6a866a6ada746f29a807eeb3a1a78ee",
    "idx": 16,
    "time": "2021-01-23T02:17:06.311Z",
    "type": "execution"
   },
   {
    "id": "e6a866a6ada746f29a807eeb3a1a78ee",
    "time": "2021-01-23T02:17:06.387Z",
    "type": "completion"
   },
   {
    "code": "gp.confusion(choices,catslist)",
    "id": "637e6fbd31c34deebaff57304b5bd407",
    "idx": 18,
    "time": "2021-01-23T02:18:02.798Z",
    "type": "execution"
   },
   {
    "id": "637e6fbd31c34deebaff57304b5bd407",
    "time": "2021-01-23T02:18:02.923Z",
    "type": "completion"
   },
   {
    "code": "test = pbbark.sample() \nexemplars=exclude(cloud,test,exclude_self=True)\nreset_N(exemplars)",
    "id": "b14e768a7ece449ebe63222927edb661",
    "idx": 20,
    "time": "2021-01-23T21:47:34.576Z",
    "type": "execution"
   },
   {
    "id": "b14e768a7ece449ebe63222927edb661",
    "time": "2021-01-23T21:47:34.689Z",
    "type": "completion"
   },
   {
    "code": "import GCMPy as gp\nimport math\nimport random\nimport matplotlib.pyplot as plt\n#%matplotlib inline\nimport numpy as np\nimport pandas as pd\nfrom pandas import DataFrame\nfrom scipy.optimize import minimize\nimport seaborn as sns\nsns.set(style='ticks', context='paper')\ncolors=[\"#e3c934\",\"#68c4bf\",\"#c51000\",\"#287271\"]\nsns.set_palette(colors)",
    "id": "d227019299f7447b8eb1aa7de45ab696",
    "idx": 0,
    "time": "2021-01-23T21:47:45.146Z",
    "type": "execution"
   },
   {
    "code": "pb52=pd.read_csv('pb52.csv')\npbbark = gp.HzToBark(pb52,[\"F0\",\"F1\",\"F2\",\"F3\"])\npbbark.sample(5)",
    "id": "921890676a8143b297638039497c0ea3",
    "idx": 2,
    "time": "2021-01-23T21:47:45.149Z",
    "type": "execution"
   },
   {
    "code": "# set c, the sensitivity of exemplar cloud\ncval=5\n\n# set dimesnsions m as keys, \n    ## set weight of each dimension w_m as values\ndimsvals={'z0':1,'z1':2.953,'z2':.924,'z3':3.420}\n\n# set categories to be considered as items in a list\ncatslist=['vowel','type']\n\n# Get a balanced test set, 50 obs per vowel\ntest = gp.gettestset(pbbark,'vowel',50)",
    "id": "8758525f93a142a79be9a04cb76de07a",
    "idx": 4,
    "time": "2021-01-23T21:47:45.151Z",
    "type": "execution"
   },
   {
    "code": "choices = gp.multicat(test,pbbark,catslist,dimsvals,cval,exclude_self=True,alsoexclude=None, N=1, runnerup=False)",
    "id": "1162a4dd58114c4e8668dddab1fb4cdb",
    "idx": 6,
    "time": "2021-01-23T21:47:45.153Z",
    "type": "execution"
   },
   {
    "code": "acc = gp.checkaccuracy(choices,catslist)",
    "id": "d86ea6a996a0417f934e7f1773cd0af1",
    "idx": 8,
    "time": "2021-01-23T21:47:45.155Z",
    "type": "execution"
   },
   {
    "code": "gp.accplot(acc,'vowel')",
    "id": "2c253c4e08ea42ea8ed46f0ca4b7a5ee",
    "idx": 10,
    "time": "2021-01-23T21:47:45.157Z",
    "type": "execution"
   },
   {
    "code": "print(\"overall accuracy: \" + str(gp.overallacc(acc,'vowel')))",
    "id": "0115f71f05064e62a301c3a77e5475ad",
    "idx": 11,
    "time": "2021-01-23T21:47:45.159Z",
    "type": "execution"
   },
   {
    "code": "gp.propcorr(acc,'vowel')",
    "id": "d031caea97794b41900564c3828b9ffe",
    "idx": 12,
    "time": "2021-01-23T21:47:45.161Z",
    "type": "execution"
   },
   {
    "code": "gp.accplot(acc,'type')",
    "id": "3207cdfd03cf47a182bd0fbe77c3e637",
    "idx": 14,
    "time": "2021-01-23T21:47:45.163Z",
    "type": "execution"
   },
   {
    "code": "print(\"overall accuracy: \" + str(gp.overallacc(acc,'vowel')))",
    "id": "d25c8287f90e481f85bf230551decca8",
    "idx": 15,
    "time": "2021-01-23T21:47:45.165Z",
    "type": "execution"
   },
   {
    "code": "gp.propcorr(acc,'type')",
    "id": "008904407fd44d1d907a7c06da83c7fc",
    "idx": 16,
    "time": "2021-01-23T21:47:45.167Z",
    "type": "execution"
   },
   {
    "id": "d227019299f7447b8eb1aa7de45ab696",
    "time": "2021-01-23T21:47:46.252Z",
    "type": "completion"
   },
   {
    "id": "921890676a8143b297638039497c0ea3",
    "time": "2021-01-23T21:47:46.318Z",
    "type": "completion"
   },
   {
    "id": "8758525f93a142a79be9a04cb76de07a",
    "time": "2021-01-23T21:47:46.327Z",
    "type": "completion"
   },
   {
    "id": "1162a4dd58114c4e8668dddab1fb4cdb",
    "time": "2021-01-23T21:48:02.409Z",
    "type": "completion"
   },
   {
    "id": "d86ea6a996a0417f934e7f1773cd0af1",
    "time": "2021-01-23T21:48:02.414Z",
    "type": "completion"
   },
   {
    "id": "2c253c4e08ea42ea8ed46f0ca4b7a5ee",
    "time": "2021-01-23T21:48:02.752Z",
    "type": "completion"
   },
   {
    "id": "0115f71f05064e62a301c3a77e5475ad",
    "time": "2021-01-23T21:48:02.778Z",
    "type": "completion"
   },
   {
    "id": "d031caea97794b41900564c3828b9ffe",
    "time": "2021-01-23T21:48:02.782Z",
    "type": "completion"
   },
   {
    "id": "3207cdfd03cf47a182bd0fbe77c3e637",
    "time": "2021-01-23T21:48:02.899Z",
    "type": "completion"
   },
   {
    "id": "d25c8287f90e481f85bf230551decca8",
    "time": "2021-01-23T21:48:02.901Z",
    "type": "completion"
   },
   {
    "id": "008904407fd44d1d907a7c06da83c7fc",
    "time": "2021-01-23T21:48:02.909Z",
    "type": "completion"
   },
   {
    "code": "gp.confusion(choices,catslist)",
    "id": "ddeef82a32dd48198a0b250cc8930be5",
    "idx": 18,
    "time": "2021-01-23T21:48:37.665Z",
    "type": "execution"
   },
   {
    "id": "ddeef82a32dd48198a0b250cc8930be5",
    "time": "2021-01-23T21:48:37.801Z",
    "type": "completion"
   },
   {
    "code": "test = pbbark.sample() \nexemplars=exclude(cloud,test,exclude_self=True)\nreset_N(exemplars)",
    "id": "b14e768a7ece449ebe63222927edb661",
    "idx": 20,
    "time": "2021-01-23T21:48:45.291Z",
    "type": "execution"
   },
   {
    "id": "b14e768a7ece449ebe63222927edb661",
    "time": "2021-01-23T21:48:45.426Z",
    "type": "completion"
   },
   {
    "code": "test = pbbark.sample() \nexemplars=gp.exclude(cloud,test,exclude_self=True)\nreset_N(exemplars)",
    "id": "b14e768a7ece449ebe63222927edb661",
    "idx": 20,
    "time": "2021-01-23T21:49:11.366Z",
    "type": "execution"
   },
   {
    "id": "b14e768a7ece449ebe63222927edb661",
    "time": "2021-01-23T21:49:11.426Z",
    "type": "completion"
   },
   {
    "code": "test = pbbark.sample() \nexemplars=gp.exclude(pbbark,test,exclude_self=True)\nreset_N(exemplars)",
    "id": "b14e768a7ece449ebe63222927edb661",
    "idx": 20,
    "time": "2021-01-23T21:49:19.979Z",
    "type": "execution"
   },
   {
    "id": "b14e768a7ece449ebe63222927edb661",
    "time": "2021-01-23T21:49:20.063Z",
    "type": "completion"
   },
   {
    "code": "test = pbbark.sample() \nexemplars=gp.exclude(pbbark,test,exclude_self=True)\ngp.reset_N(exemplars)",
    "id": "b14e768a7ece449ebe63222927edb661",
    "idx": 20,
    "time": "2021-01-23T21:49:25.126Z",
    "type": "execution"
   },
   {
    "id": "b14e768a7ece449ebe63222927edb661",
    "time": "2021-01-23T21:49:25.234Z",
    "type": "completion"
   },
   {
    "code": "test = pbbark.sample() \nexemplars=gp.exclude(pbbark,test,exclude_self=True)\ngp.reset_N(exemplars)\nprint(exemplars.head())",
    "id": "b14e768a7ece449ebe63222927edb661",
    "idx": 20,
    "time": "2021-01-23T21:50:34.929Z",
    "type": "execution"
   },
   {
    "id": "b14e768a7ece449ebe63222927edb661",
    "time": "2021-01-23T21:50:35.014Z",
    "type": "completion"
   },
   {
    "code": "exemplars.isin(test)",
    "id": "ce63999973574fe7960958dbab1a7711",
    "idx": 21,
    "time": "2021-01-23T21:52:38.382Z",
    "type": "execution"
   },
   {
    "id": "ce63999973574fe7960958dbab1a7711",
    "time": "2021-01-23T21:52:38.505Z",
    "type": "completion"
   },
   {
    "code": "test.isin(exemplars)",
    "id": "ce63999973574fe7960958dbab1a7711",
    "idx": 21,
    "time": "2021-01-23T21:52:47.204Z",
    "type": "execution"
   },
   {
    "id": "ce63999973574fe7960958dbab1a7711",
    "time": "2021-01-23T21:52:47.288Z",
    "type": "completion"
   },
   {
    "code": "test = pbbark.sample() \nexemplars=gp.exclude(pbbark,test,exclude_self=True)\ngp.reset_N(exemplars)\nprint('Test:')\nprint(test)\nprint('Exemplars:')\nprint(exemplars.sample())\nprint('Is test contained within exemplars?')\nprint(test.isin(exemplars))",
    "id": "b14e768a7ece449ebe63222927edb661",
    "idx": 20,
    "time": "2021-01-23T21:53:47.647Z",
    "type": "execution"
   },
   {
    "id": "b14e768a7ece449ebe63222927edb661",
    "time": "2021-01-23T21:53:47.749Z",
    "type": "completion"
   },
   {
    "code": "import GCMPy as gp\nimport math\nimport random\nimport matplotlib.pyplot as plt\n#%matplotlib inline\nimport numpy as np\nimport pandas as pd\nfrom pandas import DataFrame\nfrom scipy.optimize import minimize\nimport seaborn as sns\nsns.set(style='ticks', context='paper')\ncolors=[\"#e3c934\",\"#68c4bf\",\"#c51000\",\"#287271\"]\nsns.set_palette(colors)",
    "id": "00a632fb9c824c9797d772a7dbb672ec",
    "idx": 0,
    "time": "2021-01-25T23:18:06.830Z",
    "type": "execution"
   },
   {
    "code": "pb52=pd.read_csv('pb52.csv')\npbbark = gp.HzToBark(pb52,[\"F0\",\"F1\",\"F2\",\"F3\"])\npbbark.sample(5)",
    "id": "c6d56674bc8c485990472628fe666504",
    "idx": 2,
    "time": "2021-01-25T23:18:06.842Z",
    "type": "execution"
   },
   {
    "code": "# set c, the sensitivity of exemplar cloud\ncval=5\n\n# set dimesnsions m as keys, \n    ## set weight of each dimension w_m as values\ndimsvals={'z0':1,'z1':2.953,'z2':.924,'z3':3.420}\n\n# set categories to be considered as items in a list\ncatslist=['vowel','type']\n\n# Get a balanced test set, 50 obs per vowel\ntest = gp.gettestset(pbbark,'vowel',50)",
    "id": "0170b25144f741808a58b0510388d273",
    "idx": 4,
    "time": "2021-01-25T23:18:06.844Z",
    "type": "execution"
   },
   {
    "code": "choices = gp.multicat(test,pbbark,catslist,dimsvals,cval,exclude_self=True,alsoexclude=None, N=1, runnerup=False)",
    "id": "73f000e936da4f0c8096d50602dfd0e9",
    "idx": 6,
    "time": "2021-01-25T23:18:06.847Z",
    "type": "execution"
   },
   {
    "code": "acc = gp.checkaccuracy(choices,catslist)",
    "id": "c597d0ba21c849d98f4494b305fae389",
    "idx": 8,
    "time": "2021-01-25T23:18:06.850Z",
    "type": "execution"
   },
   {
    "code": "gp.accplot(acc,'vowel')",
    "id": "9218210b89044d1e8c12802ef204b013",
    "idx": 10,
    "time": "2021-01-25T23:18:06.853Z",
    "type": "execution"
   },
   {
    "code": "print(\"overall accuracy: \" + str(gp.overallacc(acc,'vowel')))",
    "id": "3646a0c0eb1a490dbe6e0eb600b11494",
    "idx": 11,
    "time": "2021-01-25T23:18:06.856Z",
    "type": "execution"
   },
   {
    "code": "gp.propcorr(acc,'vowel')",
    "id": "c63bf1c9f91f41288b44cb1481df383a",
    "idx": 12,
    "time": "2021-01-25T23:18:06.860Z",
    "type": "execution"
   },
   {
    "code": "gp.accplot(acc,'type')",
    "id": "67bfa699832f4646bc6ad7b4df3e5d3c",
    "idx": 14,
    "time": "2021-01-25T23:18:06.863Z",
    "type": "execution"
   },
   {
    "code": "print(\"overall accuracy: \" + str(gp.overallacc(acc,'vowel')))",
    "id": "7d6147820d694b0683edbfac4fcfda91",
    "idx": 15,
    "time": "2021-01-25T23:18:06.865Z",
    "type": "execution"
   },
   {
    "code": "gp.propcorr(acc,'type')",
    "id": "61c0fefc9caa4ede82410f7e0050e33a",
    "idx": 16,
    "time": "2021-01-25T23:18:06.868Z",
    "type": "execution"
   },
   {
    "code": "gp.confusion(choices,catslist)",
    "id": "ce6d602567df41e890fb174fd9206f6d",
    "idx": 18,
    "time": "2021-01-25T23:18:06.870Z",
    "type": "execution"
   },
   {
    "id": "00a632fb9c824c9797d772a7dbb672ec",
    "time": "2021-01-25T23:18:07.995Z",
    "type": "completion"
   },
   {
    "id": "c6d56674bc8c485990472628fe666504",
    "time": "2021-01-25T23:18:08.057Z",
    "type": "completion"
   },
   {
    "id": "0170b25144f741808a58b0510388d273",
    "time": "2021-01-25T23:18:08.068Z",
    "type": "completion"
   },
   {
    "id": "73f000e936da4f0c8096d50602dfd0e9",
    "time": "2021-01-25T23:18:22.822Z",
    "type": "completion"
   },
   {
    "id": "c597d0ba21c849d98f4494b305fae389",
    "time": "2021-01-25T23:18:22.826Z",
    "type": "completion"
   },
   {
    "id": "9218210b89044d1e8c12802ef204b013",
    "time": "2021-01-25T23:18:23.130Z",
    "type": "completion"
   },
   {
    "id": "3646a0c0eb1a490dbe6e0eb600b11494",
    "time": "2021-01-25T23:18:23.138Z",
    "type": "completion"
   },
   {
    "id": "c63bf1c9f91f41288b44cb1481df383a",
    "time": "2021-01-25T23:18:23.150Z",
    "type": "completion"
   },
   {
    "id": "67bfa699832f4646bc6ad7b4df3e5d3c",
    "time": "2021-01-25T23:18:23.259Z",
    "type": "completion"
   },
   {
    "id": "7d6147820d694b0683edbfac4fcfda91",
    "time": "2021-01-25T23:18:23.271Z",
    "type": "completion"
   },
   {
    "id": "61c0fefc9caa4ede82410f7e0050e33a",
    "time": "2021-01-25T23:18:23.284Z",
    "type": "completion"
   },
   {
    "id": "ce6d602567df41e890fb174fd9206f6d",
    "time": "2021-01-25T23:18:23.318Z",
    "type": "completion"
   },
   {
    "code": "# 3) Calculate activation\nactivation = gp.activation(test,exemplars,dimsvals,cval)\n\n# View activation of exemplars\nactv = gp.getactiv(activation,'z2','z1','vowel')\ngp.activplot(actv,'z2','z1','vowel',test)",
    "id": "cd778971791345d1a7db13a7a4a5f5b2",
    "idx": 21,
    "time": "2021-01-25T23:22:00.073Z",
    "type": "execution"
   },
   {
    "id": "cd778971791345d1a7db13a7a4a5f5b2",
    "time": "2021-01-25T23:22:00.362Z",
    "type": "completion"
   },
   {
    "code": "# Choose test stimulus\ntest = pbbark.sample() \n\n# 1) Exclude that exemplar from the exemplar cloud\nexemplars=gp.exclude(pbbark,test,exclude_self=True)\n\n# 2) Add base activation\ngp.reset_N(exemplars)\n\n# view the test stimulus, 10 random exemplars in the cloud,\n#    and verify that the test stimulus has been removed from the cloud\nprint('Test:')\nprint(test)\nprint('Exemplars:')\nprint(exemplars.sample(10))\nprint('Is test contained within exemplars?')\nprint(test.isin(exemplars))",
    "id": "dc1d54780a01470d8de5f2e105c33c2c",
    "idx": 20,
    "time": "2021-01-25T23:22:04.897Z",
    "type": "execution"
   },
   {
    "id": "dc1d54780a01470d8de5f2e105c33c2c",
    "time": "2021-01-25T23:22:04.988Z",
    "type": "completion"
   },
   {
    "code": "# 3) Calculate activation\nactivation = gp.activation(test,exemplars,dimsvals,cval)\n\n# View activation of exemplars\nactv = gp.getactiv(activation,'z2','z1','vowel')\ngp.activplot(actv,'z2','z1','vowel',test)",
    "id": "cd778971791345d1a7db13a7a4a5f5b2",
    "idx": 21,
    "time": "2021-01-25T23:22:08.647Z",
    "type": "execution"
   },
   {
    "id": "cd778971791345d1a7db13a7a4a5f5b2",
    "time": "2021-01-25T23:22:09.095Z",
    "type": "completion"
   },
   {
    "code": "# Choose test stimulus\ntest = pbbark.sample() \n\n# 1) Exclude that exemplar from the exemplar cloud\nexemplars=gp.exclude(pbbark,test,exclude_self=True)\n\n# 2) Add base activation\ngp.reset_N(exemplars)",
    "id": "dc1d54780a01470d8de5f2e105c33c2c",
    "idx": 20,
    "time": "2021-01-25T23:22:28.452Z",
    "type": "execution"
   },
   {
    "id": "dc1d54780a01470d8de5f2e105c33c2c",
    "time": "2021-01-25T23:22:28.583Z",
    "type": "completion"
   },
   {
    "code": "# Choose test stimulus\ntest = pbbark.sample() \n\n# 1) Exclude that exemplar from the exemplar cloud\nexemplars=gp.exclude(pbbark,test,exclude_self=True)\n\n# 2) Add base activation\ngp.reset_N(exemplars)\n\n",
    "id": "dc1d54780a01470d8de5f2e105c33c2c",
    "idx": 20,
    "time": "2021-01-25T23:22:36.152Z",
    "type": "execution"
   },
   {
    "id": "dc1d54780a01470d8de5f2e105c33c2c",
    "time": "2021-01-25T23:22:36.285Z",
    "type": "completion"
   },
   {
    "code": "# view the test stimulus and verify that the test stimulus has been removed from the cloud\nprint('Test:')\nprint(test)\nprint('Is test contained within exemplars?')\nprint(test.isin(exemplars))",
    "id": "681b9316e3ec4b62a816cf7d1361b681",
    "idx": 21,
    "time": "2021-01-25T23:23:05.849Z",
    "type": "execution"
   },
   {
    "id": "681b9316e3ec4b62a816cf7d1361b681",
    "time": "2021-01-25T23:23:05.942Z",
    "type": "completion"
   },
   {
    "code": "# 4) calculate probabilities of labels\n\nprobs = gp.probs(activation,catslist)",
    "id": "43da6a6208214fb28ed1af401c904f55",
    "idx": 23,
    "time": "2021-01-25T23:24:32.126Z",
    "type": "execution"
   },
   {
    "id": "43da6a6208214fb28ed1af401c904f55",
    "time": "2021-01-25T23:24:32.196Z",
    "type": "completion"
   },
   {
    "code": "probs",
    "id": "86085669f5bb479b802977bb403296a5",
    "idx": 24,
    "time": "2021-01-25T23:24:35.107Z",
    "type": "execution"
   },
   {
    "id": "86085669f5bb479b802977bb403296a5",
    "time": "2021-01-25T23:24:35.171Z",
    "type": "completion"
   },
   {
    "code": "# view the test stimulus, 3 random exemplars\n# and verify that the test stimulus has been removed from the cloud\nprint('Test:')\nprint(test)\nprint()\n\nprint('3 exemplars:')\nprint(exemplars.sample(3))\nprint()\n\nprint('Is test contained within exemplars?')\nprint(test.isin(exemplars))",
    "id": "681b9316e3ec4b62a816cf7d1361b681",
    "idx": 21,
    "time": "2021-01-25T23:25:39.730Z",
    "type": "execution"
   },
   {
    "id": "681b9316e3ec4b62a816cf7d1361b681",
    "time": "2021-01-25T23:25:39.851Z",
    "type": "completion"
   },
   {
    "code": "# view the test stimulus, 3 random exemplars\n# and verify that the test stimulus has been removed from the cloud\nprint('Test:')\nprint(test)\nprint()\nprint()\n\nprint('3 exemplars:')\nprint(exemplars.sample(3))\nprint()\nprint()\n\nprint('Is test contained within exemplars?')\nprint(test.isin(exemplars))",
    "id": "681b9316e3ec4b62a816cf7d1361b681",
    "idx": 21,
    "time": "2021-01-25T23:25:52.275Z",
    "type": "execution"
   },
   {
    "id": "681b9316e3ec4b62a816cf7d1361b681",
    "time": "2021-01-25T23:25:52.372Z",
    "type": "completion"
   },
   {
    "code": "# 4) calculate probabilities of labels\n\nprobs = gp.probs(activation,catslist)\nprobs",
    "id": "43da6a6208214fb28ed1af401c904f55",
    "idx": 23,
    "time": "2021-01-25T23:26:05.828Z",
    "type": "execution"
   },
   {
    "id": "43da6a6208214fb28ed1af401c904f55",
    "time": "2021-01-25T23:26:05.898Z",
    "type": "completion"
   },
   {
    "code": "# 4) calculate probabilities of labels\n\npr = gp.probs(activation,catslist)\npr",
    "id": "43da6a6208214fb28ed1af401c904f55",
    "idx": 23,
    "time": "2021-01-25T23:28:21.536Z",
    "type": "execution"
   },
   {
    "id": "43da6a6208214fb28ed1af401c904f55",
    "time": "2021-01-25T23:28:21.622Z",
    "type": "completion"
   },
   {
    "code": "# 5) Choose labels\nchoices_2 = gp.choose(pr,test,catslist,runnerup=True)\nchoices_2",
    "id": "86085669f5bb479b802977bb403296a5",
    "idx": 24,
    "time": "2021-01-25T23:28:41.138Z",
    "type": "execution"
   },
   {
    "id": "86085669f5bb479b802977bb403296a5",
    "time": "2021-01-25T23:28:41.275Z",
    "type": "completion"
   },
   {
    "code": "print('Vowel 1st choice is '+ choices_2[vowelChoice])",
    "id": "d82d87a9a097416799736d5ddd935297",
    "idx": 25,
    "time": "2021-01-25T23:30:34.449Z",
    "type": "execution"
   },
   {
    "id": "d82d87a9a097416799736d5ddd935297",
    "time": "2021-01-25T23:30:34.543Z",
    "type": "completion"
   },
   {
    "code": "print('Vowel 1st choice is '+ choices_2.loc[vowelChoice])",
    "id": "d82d87a9a097416799736d5ddd935297",
    "idx": 25,
    "time": "2021-01-25T23:30:45.345Z",
    "type": "execution"
   },
   {
    "id": "d82d87a9a097416799736d5ddd935297",
    "time": "2021-01-25T23:30:45.429Z",
    "type": "completion"
   },
   {
    "code": "# 5) Choose labels\nchoices_2 = gp.choose(pr,test,catslist,runnerup=True)\nchoices_2",
    "id": "86085669f5bb479b802977bb403296a5",
    "idx": 24,
    "time": "2021-01-25T23:30:52.965Z",
    "type": "execution"
   },
   {
    "id": "86085669f5bb479b802977bb403296a5",
    "time": "2021-01-25T23:30:53.079Z",
    "type": "completion"
   },
   {
    "code": "print('Vowel 1st choice is '+ choices_2['vowelChoice'])",
    "id": "d82d87a9a097416799736d5ddd935297",
    "idx": 25,
    "time": "2021-01-25T23:31:05.298Z",
    "type": "execution"
   },
   {
    "id": "d82d87a9a097416799736d5ddd935297",
    "time": "2021-01-25T23:31:05.369Z",
    "type": "completion"
   },
   {
    "code": "print('Vowel 1st choice is '+ choices_2.loc['vowelChoice'])",
    "id": "d82d87a9a097416799736d5ddd935297",
    "idx": 25,
    "time": "2021-01-25T23:31:13.843Z",
    "type": "execution"
   },
   {
    "id": "d82d87a9a097416799736d5ddd935297",
    "time": "2021-01-25T23:31:13.968Z",
    "type": "completion"
   },
   {
    "code": "print('Vowel 1st choice is '+ choices_2.iloc['vowelChoice'])",
    "id": "d82d87a9a097416799736d5ddd935297",
    "idx": 25,
    "time": "2021-01-25T23:31:19.562Z",
    "type": "execution"
   },
   {
    "id": "d82d87a9a097416799736d5ddd935297",
    "time": "2021-01-25T23:31:19.658Z",
    "type": "completion"
   },
   {
    "code": "print('Vowel 1st choice is '+ choices_2['vowelChoice'])",
    "id": "d82d87a9a097416799736d5ddd935297",
    "idx": 25,
    "time": "2021-01-25T23:31:23.153Z",
    "type": "execution"
   },
   {
    "id": "d82d87a9a097416799736d5ddd935297",
    "time": "2021-01-25T23:31:23.234Z",
    "type": "completion"
   },
   {
    "code": "print('Vowel 1st choice is '+ choices_2['vowelChoice'] + ' with probability ' + choices_2['vowelProb'])",
    "id": "d82d87a9a097416799736d5ddd935297",
    "idx": 25,
    "time": "2021-01-25T23:31:52.037Z",
    "type": "execution"
   },
   {
    "id": "d82d87a9a097416799736d5ddd935297",
    "time": "2021-01-25T23:31:52.173Z",
    "type": "completion"
   },
   {
    "code": "print('Vowel 1st choice is '+ choices_2['vowelChoice'] + ' with probability ' + str(choices_2['vowelProb']))",
    "id": "d82d87a9a097416799736d5ddd935297",
    "idx": 25,
    "time": "2021-01-25T23:32:14.266Z",
    "type": "execution"
   },
   {
    "id": "d82d87a9a097416799736d5ddd935297",
    "time": "2021-01-25T23:32:14.336Z",
    "type": "completion"
   },
   {
    "code": "print('Vowel 1st choice is '+ choices_2['vowelChoice'] + ' with probability ' + str(choices_2['vowelProb']))",
    "id": "d82d87a9a097416799736d5ddd935297",
    "idx": 25,
    "time": "2021-01-25T23:32:24.880Z",
    "type": "execution"
   },
   {
    "id": "d82d87a9a097416799736d5ddd935297",
    "time": "2021-01-25T23:32:24.941Z",
    "type": "completion"
   },
   {
    "code": "print('Vowel 1st choice is '+ str(choices_2['vowelChoice']) + ' with probability ' + str(choices_2['vowelProb']))",
    "id": "d82d87a9a097416799736d5ddd935297",
    "idx": 25,
    "time": "2021-01-25T23:32:42.360Z",
    "type": "execution"
   },
   {
    "id": "d82d87a9a097416799736d5ddd935297",
    "time": "2021-01-25T23:32:42.432Z",
    "type": "completion"
   },
   {
    "code": "print('Vowel 1st choice is '+ choices_2['vowelChoice'] + ' with probability ' + str(choices_2['vowelProb']))",
    "id": "d82d87a9a097416799736d5ddd935297",
    "idx": 25,
    "time": "2021-01-25T23:33:52.395Z",
    "type": "execution"
   },
   {
    "id": "d82d87a9a097416799736d5ddd935297",
    "time": "2021-01-25T23:33:52.462Z",
    "type": "completion"
   },
   {
    "code": "choices_2['vowelProb']",
    "id": "d82d87a9a097416799736d5ddd935297",
    "idx": 25,
    "time": "2021-01-25T23:34:12.334Z",
    "type": "execution"
   },
   {
    "id": "d82d87a9a097416799736d5ddd935297",
    "time": "2021-01-25T23:34:12.393Z",
    "type": "completion"
   },
   {
    "code": "choices_2.iloc[0]['vowelProb']",
    "id": "d82d87a9a097416799736d5ddd935297",
    "idx": 25,
    "time": "2021-01-25T23:34:21.739Z",
    "type": "execution"
   },
   {
    "id": "d82d87a9a097416799736d5ddd935297",
    "time": "2021-01-25T23:34:21.801Z",
    "type": "completion"
   },
   {
    "code": "print('Vowel')\nprint('1st choice: ' + choices_2.iloc[0]['vowelChoice'] + ' with probability ' + choices_2.iloc[0]['vowelProb'])",
    "id": "d82d87a9a097416799736d5ddd935297",
    "idx": 25,
    "time": "2021-01-25T23:35:16.540Z",
    "type": "execution"
   },
   {
    "id": "d82d87a9a097416799736d5ddd935297",
    "time": "2021-01-25T23:35:16.651Z",
    "type": "completion"
   },
   {
    "code": "print('Vowel')\nprint('1st choice: ' + choices_2.iloc[0]['vowelChoice'] + ' with probability ' + str(choices_2.iloc[0]['vowelProb']))",
    "id": "d82d87a9a097416799736d5ddd935297",
    "idx": 25,
    "time": "2021-01-25T23:35:26.266Z",
    "type": "execution"
   },
   {
    "id": "d82d87a9a097416799736d5ddd935297",
    "time": "2021-01-25T23:35:26.338Z",
    "type": "completion"
   },
   {
    "code": "print('Vowel')\nprint('1st choice: ' + choices_2.iloc[0]['vowelChoice'] + ' with probability ' + str(choices_2.iloc[0]['vowelProb']))\nprint()\nprint('2nd choice: ' + choices_2.iloc[0]['vowelChoice2'] + ' with probability ' + str(choices_2.iloc[0]['vowelChoice2Prob']))",
    "id": "d82d87a9a097416799736d5ddd935297",
    "idx": 25,
    "time": "2021-01-25T23:36:05.056Z",
    "type": "execution"
   },
   {
    "id": "d82d87a9a097416799736d5ddd935297",
    "time": "2021-01-25T23:36:05.117Z",
    "type": "completion"
   },
   {
    "code": "print('Vowel')\nprint('1st choice: ' + choices_2.iloc[0]['vowelChoice'] + ' with probability ' + str(choices_2.iloc[0]['vowelProb']))\nprint('2nd choice: ' + choices_2.iloc[0]['vowelChoice2'] + ' with probability ' + str(choices_2.iloc[0]['vowelChoice2Prob']))\n\nprint()\nprint('Speaker type')\nprint('1st choice: ' + choices_2.iloc[0]['typeChoice'] + ' with probability ' + str(choices_2.iloc[0]['typeProb']))\nprint('2nd choice: ' + choices_2.iloc[0]['typeChoice2'] + ' with probability ' + str(choices_2.iloc[0]['typeChoice2Prob']))",
    "id": "d82d87a9a097416799736d5ddd935297",
    "idx": 25,
    "time": "2021-01-25T23:37:00.523Z",
    "type": "execution"
   },
   {
    "id": "d82d87a9a097416799736d5ddd935297",
    "time": "2021-01-25T23:37:00.599Z",
    "type": "completion"
   },
   {
    "code": "# Choose test stimulus\ntest = pbbark.sample() \n\n# 1) Exclude that exemplar from the exemplar cloud\nexemplars=gp.exclude(pbbark,test,exclude_self=True)\n\n# 2) Add base activation\nexemplars = gp.reset_N(exemplars)",
    "id": "dc1d54780a01470d8de5f2e105c33c2c",
    "idx": 20,
    "time": "2021-01-25T23:37:26.460Z",
    "type": "execution"
   },
   {
    "code": "# view the test stimulus, 3 random exemplars\n# and verify that the test stimulus has been removed from the cloud\nprint('Test:')\nprint(test)\nprint()\nprint()\n\nprint('3 exemplars:')\nprint(exemplars.sample(3))\nprint()\nprint()\n\nprint('Is test contained within exemplars?')\nprint(test.isin(exemplars))",
    "id": "681b9316e3ec4b62a816cf7d1361b681",
    "idx": 21,
    "time": "2021-01-25T23:37:26.462Z",
    "type": "execution"
   },
   {
    "code": "# 3) Calculate activation\nactivation = gp.activation(test,exemplars,dimsvals,cval)\n\n# View activation of exemplars\nactv = gp.getactiv(activation,'z2','z1','vowel')\ngp.activplot(actv,'z2','z1','vowel',test)",
    "id": "cd778971791345d1a7db13a7a4a5f5b2",
    "idx": 22,
    "time": "2021-01-25T23:37:26.463Z",
    "type": "execution"
   },
   {
    "code": "# 4) calculate probabilities of labels\n\npr = gp.probs(activation,catslist)\npr",
    "id": "43da6a6208214fb28ed1af401c904f55",
    "idx": 23,
    "time": "2021-01-25T23:37:26.465Z",
    "type": "execution"
   },
   {
    "code": "# 5) Choose labels\nchoices_2 = gp.choose(pr,test,catslist,runnerup=True)\nchoices_2",
    "id": "86085669f5bb479b802977bb403296a5",
    "idx": 24,
    "time": "2021-01-25T23:37:26.467Z",
    "type": "execution"
   },
   {
    "code": "print('Vowel')\nprint('1st choice: ' + choices_2.iloc[0]['vowelChoice'] + ' with probability ' + str(choices_2.iloc[0]['vowelProb']))\nprint('2nd choice: ' + choices_2.iloc[0]['vowelChoice2'] + ' with probability ' + str(choices_2.iloc[0]['vowelChoice2Prob']))\n\nprint()\nprint('Speaker type')\nprint('1st choice: ' + choices_2.iloc[0]['typeChoice'] + ' with probability ' + str(choices_2.iloc[0]['typeProb']))\nprint('2nd choice: ' + choices_2.iloc[0]['typeChoice2'] + ' with probability ' + str(choices_2.iloc[0]['typeChoice2Prob']))",
    "id": "d82d87a9a097416799736d5ddd935297",
    "idx": 25,
    "time": "2021-01-25T23:37:26.469Z",
    "type": "execution"
   },
   {
    "id": "dc1d54780a01470d8de5f2e105c33c2c",
    "time": "2021-01-25T23:37:26.549Z",
    "type": "completion"
   },
   {
    "id": "681b9316e3ec4b62a816cf7d1361b681",
    "time": "2021-01-25T23:37:26.571Z",
    "type": "completion"
   },
   {
    "id": "cd778971791345d1a7db13a7a4a5f5b2",
    "time": "2021-01-25T23:37:26.817Z",
    "type": "completion"
   },
   {
    "id": "43da6a6208214fb28ed1af401c904f55",
    "time": "2021-01-25T23:37:26.824Z",
    "type": "completion"
   },
   {
    "id": "86085669f5bb479b802977bb403296a5",
    "time": "2021-01-25T23:37:26.848Z",
    "type": "completion"
   },
   {
    "id": "d82d87a9a097416799736d5ddd935297",
    "time": "2021-01-25T23:37:26.873Z",
    "type": "completion"
   },
   {
    "code": "# 6) Check accuracy\ngp.checkaccuracy(choice_2,catslist)",
    "id": "4f459b12552448e094ca65c83e021c31",
    "idx": 26,
    "time": "2021-01-25T23:39:01.777Z",
    "type": "execution"
   },
   {
    "id": "4f459b12552448e094ca65c83e021c31",
    "time": "2021-01-25T23:39:01.854Z",
    "type": "completion"
   },
   {
    "code": "# 6) Check accuracy\ngp.checkaccuracy(choices_2,catslist)",
    "id": "4f459b12552448e094ca65c83e021c31",
    "idx": 26,
    "time": "2021-01-25T23:39:05.399Z",
    "type": "execution"
   },
   {
    "id": "4f459b12552448e094ca65c83e021c31",
    "time": "2021-01-25T23:39:05.518Z",
    "type": "completion"
   },
   {
    "code": "print('Was vowel accurate?' + accu.iloc[0]['vowelAcc'])",
    "id": "82ecf23a618e4498b8b6b763e8d34a81",
    "idx": 27,
    "time": "2021-01-25T23:39:59.123Z",
    "type": "execution"
   },
   {
    "id": "82ecf23a618e4498b8b6b763e8d34a81",
    "time": "2021-01-25T23:39:59.191Z",
    "type": "completion"
   },
   {
    "code": "# 6) Check accuracy\naccu = gp.checkaccuracy(choices_2,catslist)",
    "id": "4f459b12552448e094ca65c83e021c31",
    "idx": 26,
    "time": "2021-01-25T23:40:03.034Z",
    "type": "execution"
   },
   {
    "id": "4f459b12552448e094ca65c83e021c31",
    "time": "2021-01-25T23:40:03.106Z",
    "type": "completion"
   },
   {
    "code": "print('Was vowel accurate?' + accu.iloc[0]['vowelAcc'])",
    "id": "82ecf23a618e4498b8b6b763e8d34a81",
    "idx": 27,
    "time": "2021-01-25T23:40:03.751Z",
    "type": "execution"
   },
   {
    "id": "82ecf23a618e4498b8b6b763e8d34a81",
    "time": "2021-01-25T23:40:03.842Z",
    "type": "completion"
   },
   {
    "code": "print('Was vowel accurate?   ' + accu.iloc[0]['vowelAcc'])\nprint('Was speaker type accurate?   ' + accu.iloc[0]['typeAcc'])",
    "id": "82ecf23a618e4498b8b6b763e8d34a81",
    "idx": 27,
    "time": "2021-01-25T23:40:28.203Z",
    "type": "execution"
   },
   {
    "id": "82ecf23a618e4498b8b6b763e8d34a81",
    "time": "2021-01-25T23:40:28.282Z",
    "type": "completion"
   },
   {
    "code": "print('Was vowel categorized accurately?   ' + accu.iloc[0]['vowelAcc'])\nprint('Was speaker type categorized accurately?   ' + accu.iloc[0]['typeAcc'])",
    "id": "82ecf23a618e4498b8b6b763e8d34a81",
    "idx": 27,
    "time": "2021-01-25T23:40:49.849Z",
    "type": "execution"
   },
   {
    "id": "82ecf23a618e4498b8b6b763e8d34a81",
    "time": "2021-01-25T23:40:49.909Z",
    "type": "completion"
   },
   {
    "code": "print('Was vowel categorized accurately?          ' + accu.iloc[0]['vowelAcc'])\nprint('Was speaker type categorized accurately?   ' + accu.iloc[0]['typeAcc'])",
    "id": "82ecf23a618e4498b8b6b763e8d34a81",
    "idx": 27,
    "time": "2021-01-25T23:40:58.083Z",
    "type": "execution"
   },
   {
    "id": "82ecf23a618e4498b8b6b763e8d34a81",
    "time": "2021-01-25T23:40:58.143Z",
    "type": "completion"
   },
   {
    "code": "print('Was *vowel* categorized accurately?          ' + accu.iloc[0]['vowelAcc'])\nprint('Was speaker type categorized accurately?   ' + accu.iloc[0]['typeAcc'])",
    "id": "82ecf23a618e4498b8b6b763e8d34a81",
    "idx": 27,
    "time": "2021-01-25T23:41:06.138Z",
    "type": "execution"
   },
   {
    "id": "82ecf23a618e4498b8b6b763e8d34a81",
    "time": "2021-01-25T23:41:06.199Z",
    "type": "completion"
   },
   {
    "code": "print('Was vowel categorized accurately?          ' + accu.iloc[0]['vowelAcc'])\nprint('Was speaker type categorized accurately?   ' + accu.iloc[0]['typeAcc'])",
    "id": "82ecf23a618e4498b8b6b763e8d34a81",
    "idx": 27,
    "time": "2021-01-25T23:41:14.023Z",
    "type": "execution"
   },
   {
    "id": "82ecf23a618e4498b8b6b763e8d34a81",
    "time": "2021-01-25T23:41:14.086Z",
    "type": "completion"
   }
  ],
  "kernelspec": {
   "display_name": "Python 3",
   "language": "python",
   "name": "python3"
  },
  "language_info": {
   "codemirror_mode": {
    "name": "ipython",
    "version": 3
   },
   "file_extension": ".py",
   "mimetype": "text/x-python",
   "name": "python",
   "nbconvert_exporter": "python",
   "pygments_lexer": "ipython3",
   "version": "3.8.6"
  }
 },
 "nbformat": 4,
 "nbformat_minor": 4
}
